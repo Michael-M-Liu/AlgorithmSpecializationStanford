{
 "cells": [
  {
   "cell_type": "markdown",
   "metadata": {
    "toc": true
   },
   "source": [
    "<h1>Table of Contents<span class=\"tocSkip\"></span></h1>\n",
    "<div class=\"toc\"><ul class=\"toc-item\"><li><span><a href=\"#Import-data-to-a-list\" data-toc-modified-id=\"Import-data-to-a-list-1\">Import data to a list</a></span></li><li><span><a href=\"#Save-the-graph-in-dictionary-format\" data-toc-modified-id=\"Save-the-graph-in-dictionary-format-2\">Save the graph in dictionary format</a></span></li><li><span><a href=\"#Reverse-the-graph\" data-toc-modified-id=\"Reverse-the-graph-3\">Reverse the graph</a></span></li><li><span><a href=\"#Run-DFS-on-reversed-graph\" data-toc-modified-id=\"Run-DFS-on-reversed-graph-4\">Run DFS on reversed graph</a></span></li><li><span><a href=\"#Run-DFS-on-graph-to-find-SCC\" data-toc-modified-id=\"Run-DFS-on-graph-to-find-SCC-5\">Run DFS on graph to find SCC</a></span></li></ul></div>"
   ]
  },
  {
   "cell_type": "markdown",
   "metadata": {},
   "source": [
    "Download the following text file:\n",
    "\n",
    "SCC.txt\n",
    "The file contains the edges of a directed graph. Vertices are labeled as positive integers from 1 to 875714. Every row indicates an edge, the vertex label in first column is the tail and the vertex label in second column is the head (recall the graph is directed, and the edges are directed from the first column vertex to the second column vertex). So for example, the 11th row looks liks : \"2 47646\". This just means that the vertex with label 2 has an outgoing edge to the vertex with label 47646\n",
    "\n",
    "Your task is to code up the algorithm from the video lectures for computing strongly connected components (SCCs), and to run this algorithm on the given graph.\n",
    "\n",
    "Output Format: You should output the sizes of the 5 largest SCCs in the given graph, in decreasing order of sizes, separated by commas (avoid any spaces). So if your algorithm computes the sizes of the five largest SCCs to be 500, 400, 300, 200 and 100, then your answer should be \"500,400,300,200,100\" (without the quotes). If your algorithm finds less than 5 SCCs, then write 0 for the remaining terms. Thus, if your algorithm computes only 3 SCCs whose sizes are 400, 300, and 100, then your answer should be \"400,300,100,0,0\" (without the quotes). (Note also that your answer should not have any spaces in it.)\n",
    "\n",
    "WARNING: This is the most challenging programming assignment of the course. Because of the size of the graph you may have to manage memory carefully. The best way to do this depends on your programming language and environment, and we strongly suggest that you exchange tips for doing this on the discussion forums."
   ]
  },
  {
   "cell_type": "markdown",
   "metadata": {},
   "source": [
    "# Import data to a list"
   ]
  },
  {
   "cell_type": "code",
   "execution_count": 1,
   "metadata": {
    "ExecuteTime": {
     "end_time": "2020-11-08T06:22:51.278591Z",
     "start_time": "2020-11-08T06:22:50.335973Z"
    }
   },
   "outputs": [
    {
     "data": {
      "text/plain": [
       "['13660', '875714', '9434', '875714', '542453']"
      ]
     },
     "execution_count": 1,
     "metadata": {},
     "output_type": "execute_result"
    }
   ],
   "source": [
    "# import data\n",
    "from sys import getsizeof\n",
    "\n",
    "edges = open(\"scc.txt\").read().split()\n",
    "\n",
    "edges[-5:]"
   ]
  },
  {
   "cell_type": "code",
   "execution_count": 2,
   "metadata": {
    "ExecuteTime": {
     "end_time": "2020-11-08T06:22:57.585266Z",
     "start_time": "2020-11-08T06:22:53.692345Z"
    }
   },
   "outputs": [
    {
     "data": {
      "text/plain": [
       "[(875714, 542452), (875714, 13660), (875714, 9434), (875714, 542453)]"
      ]
     },
     "execution_count": 2,
     "metadata": {},
     "output_type": "execute_result"
    }
   ],
   "source": [
    "graph = [(int(edges[2*i]), int(edges[2*i+1])) for i in range(len(edges)//2)]\n",
    "\n",
    "graph[-4:]"
   ]
  },
  {
   "cell_type": "markdown",
   "metadata": {},
   "source": [
    "# Save the graph in dictionary format"
   ]
  },
  {
   "cell_type": "code",
   "execution_count": 4,
   "metadata": {
    "ExecuteTime": {
     "end_time": "2020-11-08T06:23:07.662700Z",
     "start_time": "2020-11-08T06:23:04.008525Z"
    }
   },
   "outputs": [
    {
     "data": {
      "text/plain": [
       "[2, 5, 6, 7, 3, 8, 4]"
      ]
     },
     "execution_count": 4,
     "metadata": {},
     "output_type": "execute_result"
    }
   ],
   "source": [
    "def convert_dict(graph):\n",
    "    g = dict()\n",
    "    for e in graph:\n",
    "        if e[0] in g:\n",
    "            g[e[0]].append(e[1])\n",
    "        else:\n",
    "            g[e[0]] = [e[1]]\n",
    "    return g\n",
    "\n",
    "g = convert_dict(graph)\n",
    "g[1]"
   ]
  },
  {
   "cell_type": "markdown",
   "metadata": {},
   "source": [
    "# Reverse the graph"
   ]
  },
  {
   "cell_type": "code",
   "execution_count": 17,
   "metadata": {
    "ExecuteTime": {
     "end_time": "2020-11-08T07:13:06.145832Z",
     "start_time": "2020-11-08T07:13:01.682806Z"
    }
   },
   "outputs": [
    {
     "name": "stdout",
     "output_type": "stream",
     "text": [
      "[5, 6, 7, 8, 10, 12, 13, 16, 17, 18, 19, 20, 23, 24, 25, 26, 27, 28, 29, 30, 31, 32, 34, 35, 36, 3121, 53206, 53211, 71113, 88664, 88665, 104772, 104782, 104783, 104784, 104786, 104787, 104788, 104789, 104790, 104791, 104809, 104812, 104813, 104814, 104815, 104817, 104818, 104819, 104820, 104821, 104822, 110437, 110438, 110439, 110440, 110441, 110442, 115314, 115336, 115342, 115355, 115399, 115401, 124672, 124673, 133568, 171168, 171169, 171170, 171172, 171175, 171176, 171177, 171178, 171179, 171182, 171188, 176657, 176658, 176659, 176660, 176661, 176662, 176663, 176664, 176667, 212282, 212283, 212284, 212285, 212286, 212287, 212288, 212290, 212291, 212292, 212293, 212294, 212295, 224091, 240432, 280787, 280871, 297779, 303368, 303369, 303370, 303371, 303372, 307622, 307624, 307625, 307627, 307628, 307629, 307630, 313160, 313976, 318620, 320269, 320270, 347557, 347559, 347561, 347562, 347563, 348031, 348032, 348033, 348034, 348037, 348039, 348040, 348041, 348042, 348044, 348045, 348046, 348047, 348048, 348050, 348051, 348052, 348053, 348054, 348055, 348056, 348057, 348058, 348059, 348060, 348061, 361742, 361743, 361744, 361745, 361746, 361747, 361748, 361749, 361750, 361751, 361752, 361753, 361754, 361755, 361757, 386605, 395677, 395678, 395679, 395680, 395681, 395682, 395683, 395684, 395685, 395686, 415833, 429291, 448071, 461693, 495884, 535062, 535063, 540151, 541482, 572219, 572229, 601113, 637920, 637921, 664635, 675019, 692316, 693575, 699074, 707709, 707710, 732157, 734061, 734309, 758952, 758955, 776406, 801801, 827774, 832536, 846832, 851820, 860482]\n"
     ]
    }
   ],
   "source": [
    "# reverse the graph\n",
    "    \n",
    "# graph_rev = sorted(graph, key = lambda edge: edge[1])\n",
    "\n",
    "graph_rev = [(e[1], e[0]) for e in graph]\n",
    "\n",
    "# Create reverse graph g_rev\n",
    "g_rev = convert_dict(graph_rev)\n",
    "print(g_rev[1])"
   ]
  },
  {
   "cell_type": "code",
   "execution_count": 6,
   "metadata": {
    "ExecuteTime": {
     "end_time": "2020-11-08T06:23:37.913609Z",
     "start_time": "2020-11-08T06:23:37.903781Z"
    }
   },
   "outputs": [],
   "source": [
    "# Graph is stored in dictionary format\n",
    "\n",
    "def DFS_loop(graph):\n",
    "    def DFS(node):\n",
    "        nonlocal t\n",
    "        visited[node] = -1\n",
    "        if node in graph: \n",
    "            for neighbor in graph[node]:\n",
    "                if neighbor not in visited:\n",
    "                    DFS(neighbor)\n",
    "        t += 1\n",
    "    #         print(node, t)\n",
    "        visited[node] = t\n",
    "    \n",
    "    nodes = sorted(graph.keys(), reverse=True)        \n",
    "    t = 0 \n",
    "    global visited\n",
    "    for node in nodes:\n",
    "        if node not in visited:\n",
    "            DFS(node)\n",
    "            \n",
    "# Graph is stored in dictionary format\n",
    "def DFS_loop2(graph, nodes):\n",
    "    \n",
    "    def DFS(node):\n",
    "        nonlocal t\n",
    "        visited[node] = -1\n",
    "        if node in graph: \n",
    "            for neighbor in graph[node]:\n",
    "                if neighbor not in visited:\n",
    "                    DFS(neighbor)\n",
    "        t += 1\n",
    "#         print(node, t)\n",
    "        visited[node] = t\n",
    "        \n",
    "        \n",
    "#     scc = []\n",
    "    visited = dict()\n",
    "    for node in nodes:\n",
    "        if node not in visited:\n",
    "            t = 0\n",
    "            DFS(node)\n",
    "            scc.append(t)\n",
    "    return scc"
   ]
  },
  {
   "cell_type": "markdown",
   "metadata": {},
   "source": [
    "# Run DFS on reversed graph"
   ]
  },
  {
   "cell_type": "code",
   "execution_count": 18,
   "metadata": {
    "ExecuteTime": {
     "end_time": "2020-11-08T07:14:09.409966Z",
     "start_time": "2020-11-08T07:14:08.982358Z"
    }
   },
   "outputs": [
    {
     "data": {
      "text/plain": [
       "501"
      ]
     },
     "execution_count": 18,
     "metadata": {},
     "output_type": "execute_result"
    }
   ],
   "source": [
    "import sys, threading\n",
    "\n",
    "sys.setrecursionlimit(800000)\n",
    "threading.stack_size(67108864)\n",
    "\n",
    "visited = dict()\n",
    "\n",
    "def main():\n",
    "#     visited = dict()\n",
    "    global visited\n",
    "    DFS_loop(g_rev)\n",
    "\n",
    "thread = threading.Thread(target=main)\n",
    "thread.start()\n",
    "\n",
    "len(visited)"
   ]
  },
  {
   "cell_type": "code",
   "execution_count": 19,
   "metadata": {
    "ExecuteTime": {
     "end_time": "2020-11-08T07:14:22.821507Z",
     "start_time": "2020-11-08T07:14:22.482274Z"
    }
   },
   "outputs": [
    {
     "data": {
      "text/plain": [
       "[875714, 875713, 875712, 875711, 875710]"
      ]
     },
     "execution_count": 19,
     "metadata": {},
     "output_type": "execute_result"
    }
   ],
   "source": [
    "sorted(visited.keys(), reverse=True)[:5]\n"
   ]
  },
  {
   "cell_type": "code",
   "execution_count": null,
   "metadata": {},
   "outputs": [],
   "source": []
  },
  {
   "cell_type": "markdown",
   "metadata": {},
   "source": [
    "# Run DFS on graph to find SCC"
   ]
  },
  {
   "cell_type": "code",
   "execution_count": 20,
   "metadata": {
    "ExecuteTime": {
     "end_time": "2020-11-08T07:14:41.237463Z",
     "start_time": "2020-11-08T07:14:40.312422Z"
    }
   },
   "outputs": [
    {
     "name": "stdout",
     "output_type": "stream",
     "text": [
      "[434821, 968, 459, 313, 211, 205]\n"
     ]
    }
   ],
   "source": [
    "scc = []\n",
    "def main():\n",
    "    order = sorted([[key, value] for key, value in visited.items()], key=lambda e: e[1], reverse=True)\n",
    "    order = [e[0] for e in order]\n",
    "    global scc\n",
    "    scc = DFS_loop2(g, order)\n",
    "    test = dict()\n",
    "    print(sorted(scc, reverse=True)[:6])\n",
    "\n",
    "thread = threading.Thread(target=main)\n",
    "thread.start()"
   ]
  },
  {
   "cell_type": "code",
   "execution_count": 21,
   "metadata": {
    "ExecuteTime": {
     "end_time": "2020-11-08T07:14:55.370579Z",
     "start_time": "2020-11-08T07:14:55.366598Z"
    }
   },
   "outputs": [
    {
     "data": {
      "text/plain": [
       "371762"
      ]
     },
     "execution_count": 21,
     "metadata": {},
     "output_type": "execute_result"
    }
   ],
   "source": [
    "len(scc)"
   ]
  },
  {
   "cell_type": "code",
   "execution_count": 22,
   "metadata": {
    "ExecuteTime": {
     "end_time": "2020-11-08T07:15:05.946011Z",
     "start_time": "2020-11-08T07:15:05.942021Z"
    }
   },
   "outputs": [
    {
     "data": {
      "text/plain": [
       "45242120"
      ]
     },
     "execution_count": 22,
     "metadata": {},
     "output_type": "execute_result"
    }
   ],
   "source": [
    "getsizeof(graph)"
   ]
  },
  {
   "cell_type": "code",
   "execution_count": 23,
   "metadata": {
    "ExecuteTime": {
     "end_time": "2020-11-08T07:15:08.150878Z",
     "start_time": "2020-11-08T07:15:08.146869Z"
    }
   },
   "outputs": [
    {
     "data": {
      "text/plain": [
       "41943152"
      ]
     },
     "execution_count": 23,
     "metadata": {},
     "output_type": "execute_result"
    }
   ],
   "source": [
    "getsizeof(g)"
   ]
  },
  {
   "cell_type": "code",
   "execution_count": 24,
   "metadata": {
    "ExecuteTime": {
     "end_time": "2020-11-08T07:15:14.530478Z",
     "start_time": "2020-11-08T07:15:14.526505Z"
    }
   },
   "outputs": [
    {
     "data": {
      "text/plain": [
       "41943152"
      ]
     },
     "execution_count": 24,
     "metadata": {},
     "output_type": "execute_result"
    }
   ],
   "source": [
    "getsizeof(g_rev)"
   ]
  },
  {
   "cell_type": "code",
   "execution_count": 25,
   "metadata": {
    "ExecuteTime": {
     "end_time": "2020-11-08T07:15:16.485672Z",
     "start_time": "2020-11-08T07:15:16.481735Z"
    }
   },
   "outputs": [
    {
     "data": {
      "text/plain": [
       "87002304"
      ]
     },
     "execution_count": 25,
     "metadata": {},
     "output_type": "execute_result"
    }
   ],
   "source": [
    "getsizeof(edges)"
   ]
  },
  {
   "cell_type": "code",
   "execution_count": null,
   "metadata": {},
   "outputs": [],
   "source": []
  }
 ],
 "metadata": {
  "kernelspec": {
   "display_name": "Python 3",
   "language": "python",
   "name": "python3"
  },
  "language_info": {
   "codemirror_mode": {
    "name": "ipython",
    "version": 3
   },
   "file_extension": ".py",
   "mimetype": "text/x-python",
   "name": "python",
   "nbconvert_exporter": "python",
   "pygments_lexer": "ipython3",
   "version": "3.7.4"
  },
  "toc": {
   "base_numbering": 1,
   "nav_menu": {},
   "number_sections": false,
   "sideBar": false,
   "skip_h1_title": false,
   "title_cell": "Table of Contents",
   "title_sidebar": "Contents",
   "toc_cell": true,
   "toc_position": {},
   "toc_section_display": true,
   "toc_window_display": false
  }
 },
 "nbformat": 4,
 "nbformat_minor": 2
}
