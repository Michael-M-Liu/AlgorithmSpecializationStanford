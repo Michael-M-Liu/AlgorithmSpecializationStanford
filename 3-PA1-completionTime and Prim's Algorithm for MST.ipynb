{
 "cells": [
  {
   "cell_type": "markdown",
   "metadata": {
    "toc": true
   },
   "source": [
    "<h1>Table of Contents<span class=\"tocSkip\"></span></h1>\n",
    "<div class=\"toc\"><ul class=\"toc-item\"><li><span><a href=\"#Schedule-jobs-with-minimum-weighted-completion-time\" data-toc-modified-id=\"Schedule-jobs-with-minimum-weighted-completion-time-1\">Schedule jobs with minimum weighted completion time</a></span><ul class=\"toc-item\"><li><span><a href=\"#Quention-#1-Schedule-with-decreasing-weight-length\" data-toc-modified-id=\"Quention-#1-Schedule-with-decreasing-weight-length-1.1\">Quention #1 Schedule with decreasing weight-length</a></span></li><li><span><a href=\"#Question-#2-Schedule-with-decreasing-ratio-weight/length\" data-toc-modified-id=\"Question-#2-Schedule-with-decreasing-ratio-weight/length-1.2\">Question #2 Schedule with decreasing ratio weight/length</a></span></li></ul></li><li><span><a href=\"#Prim's-Algorithm-to-calculate-minimum-spanning-tree\" data-toc-modified-id=\"Prim's-Algorithm-to-calculate-minimum-spanning-tree-2\">Prim's Algorithm to calculate minimum spanning tree</a></span></li></ul></div>"
   ]
  },
  {
   "cell_type": "markdown",
   "metadata": {},
   "source": [
    "# Schedule jobs with minimum weighted completion time"
   ]
  },
  {
   "cell_type": "code",
   "execution_count": 1,
   "metadata": {
    "ExecuteTime": {
     "end_time": "2020-09-13T21:43:48.609094Z",
     "start_time": "2020-09-13T21:43:48.588845Z"
    }
   },
   "outputs": [
    {
     "data": {
      "text/plain": [
       "[[8, 50],\n",
       " [74, 59],\n",
       " [31, 73],\n",
       " [45, 79],\n",
       " [24, 10],\n",
       " [41, 66],\n",
       " [93, 43],\n",
       " [88, 4],\n",
       " [28, 30],\n",
       " [41, 13]]"
      ]
     },
     "execution_count": 1,
     "metadata": {},
     "output_type": "execute_result"
    }
   ],
   "source": [
    "# import data\n",
    "from sys import getsizeof\n",
    "from heapq import *\n",
    "\n",
    "nums = open(\"jobs.txt\").read().split()\n",
    "\n",
    "nums = [[int(nums[2*i+1]), int(nums[2*i+2])] for i in range(len(nums)//2)]\n",
    "\n",
    "nums[:10]"
   ]
  },
  {
   "cell_type": "code",
   "execution_count": 2,
   "metadata": {
    "ExecuteTime": {
     "end_time": "2020-09-13T21:43:48.614211Z",
     "start_time": "2020-09-13T21:43:48.611008Z"
    }
   },
   "outputs": [
    {
     "data": {
      "text/plain": [
       "10000"
      ]
     },
     "execution_count": 2,
     "metadata": {},
     "output_type": "execute_result"
    }
   ],
   "source": [
    "len(nums)"
   ]
  },
  {
   "cell_type": "markdown",
   "metadata": {},
   "source": [
    "## Quention #1 Schedule with decreasing weight-length"
   ]
  },
  {
   "cell_type": "code",
   "execution_count": 3,
   "metadata": {
    "ExecuteTime": {
     "end_time": "2020-09-13T21:43:48.623104Z",
     "start_time": "2020-09-13T21:43:48.616403Z"
    }
   },
   "outputs": [
    {
     "data": {
      "text/plain": [
       "[(-42, 8, -50), (15, 74, -59), (-42, 31, -73), (-34, 45, -79), (14, 24, -10)]"
      ]
     },
     "execution_count": 3,
     "metadata": {},
     "output_type": "execute_result"
    }
   ],
   "source": [
    "diff = [(num[0] - num[1], num[0], -num[1]) for num in nums]\n",
    "diff[:5]"
   ]
  },
  {
   "cell_type": "code",
   "execution_count": 4,
   "metadata": {
    "ExecuteTime": {
     "end_time": "2020-09-13T21:43:48.632832Z",
     "start_time": "2020-09-13T21:43:48.625040Z"
    }
   },
   "outputs": [
    {
     "data": {
      "text/plain": [
       "[(98, 99, -1), (97, 100, -3), (97, 100, -3), (97, 99, -2), (97, 99, -2)]"
      ]
     },
     "execution_count": 4,
     "metadata": {},
     "output_type": "execute_result"
    }
   ],
   "source": [
    "# sort the difference weight-length in decreasing order and break tie with decreasing order of weight\n",
    "\n",
    "diff.sort(reverse=True)\n",
    "diff[:5]"
   ]
  },
  {
   "cell_type": "code",
   "execution_count": 5,
   "metadata": {
    "ExecuteTime": {
     "end_time": "2020-09-13T21:43:48.642711Z",
     "start_time": "2020-09-13T21:43:48.634670Z"
    }
   },
   "outputs": [
    {
     "name": "stdout",
     "output_type": "stream",
     "text": [
      "Weighted completion time is: 69119377652\n",
      "The total time of the jobs : 510289\n"
     ]
    }
   ],
   "source": [
    "def weightedTime(diff):\n",
    "    wt = t = 0\n",
    "    for d in diff:\n",
    "        t += abs(d[2])\n",
    "        wt += d[1] * t\n",
    "    print(\"Weighted completion time is:\", wt)\n",
    "    print(\"The total time of the jobs :\", t)\n",
    "    \n",
    "weightedTime(diff)"
   ]
  },
  {
   "cell_type": "markdown",
   "metadata": {},
   "source": [
    "## Question #2 Schedule with decreasing ratio weight/length"
   ]
  },
  {
   "cell_type": "code",
   "execution_count": 6,
   "metadata": {
    "ExecuteTime": {
     "end_time": "2020-09-13T21:43:48.654306Z",
     "start_time": "2020-09-13T21:43:48.644992Z"
    }
   },
   "outputs": [
    {
     "data": {
      "text/plain": [
       "[(0.16, 8, 50),\n",
       " (1.2542372881355932, 74, 59),\n",
       " (0.4246575342465753, 31, 73),\n",
       " (0.569620253164557, 45, 79),\n",
       " (2.4, 24, 10)]"
      ]
     },
     "execution_count": 6,
     "metadata": {},
     "output_type": "execute_result"
    }
   ],
   "source": [
    "ratio = [(num[0]/num[1], num[0], num[1]) for num in nums]\n",
    "ratio[:5]"
   ]
  },
  {
   "cell_type": "code",
   "execution_count": 7,
   "metadata": {
    "ExecuteTime": {
     "end_time": "2020-09-13T21:43:48.663239Z",
     "start_time": "2020-09-13T21:43:48.656253Z"
    }
   },
   "outputs": [
    {
     "data": {
      "text/plain": [
       "[(99.0, 99, 1), (98.0, 98, 1), (95.0, 95, 1), (95.0, 95, 1), (93.0, 93, 1)]"
      ]
     },
     "execution_count": 7,
     "metadata": {},
     "output_type": "execute_result"
    }
   ],
   "source": [
    "ratio.sort(reverse=True)\n",
    "ratio[:5]"
   ]
  },
  {
   "cell_type": "code",
   "execution_count": 8,
   "metadata": {
    "ExecuteTime": {
     "end_time": "2020-09-13T21:43:48.672015Z",
     "start_time": "2020-09-13T21:43:48.666684Z"
    }
   },
   "outputs": [
    {
     "name": "stdout",
     "output_type": "stream",
     "text": [
      "Weighted completion time is: 67311454237\n",
      "The total time of the jobs : 510289\n"
     ]
    }
   ],
   "source": [
    "weightedTime(ratio)"
   ]
  },
  {
   "cell_type": "code",
   "execution_count": null,
   "metadata": {},
   "outputs": [],
   "source": []
  },
  {
   "cell_type": "markdown",
   "metadata": {},
   "source": [
    "# Prim's Algorithm to calculate minimum spanning tree"
   ]
  },
  {
   "cell_type": "code",
   "execution_count": 9,
   "metadata": {
    "ExecuteTime": {
     "end_time": "2020-09-13T21:43:48.683376Z",
     "start_time": "2020-09-13T21:43:48.674111Z"
    }
   },
   "outputs": [
    {
     "data": {
      "text/plain": [
       "[[1, 2, 6807],\n",
       " [2, 3, -8874],\n",
       " [3, 4, -1055],\n",
       " [4, 5, 4414],\n",
       " [5, 6, 1728],\n",
       " [6, 7, -2237],\n",
       " [7, 8, -7507],\n",
       " [8, 9, 7990],\n",
       " [9, 10, -5012],\n",
       " [10, 11, 7353]]"
      ]
     },
     "execution_count": 9,
     "metadata": {},
     "output_type": "execute_result"
    }
   ],
   "source": [
    "# import data\n",
    "\n",
    "from collections import defaultdict\n",
    "\n",
    "nums = open(\"edges.txt\").read().split()[2:]\n",
    "\n",
    "nums = [[int(nums[3*i]), int(nums[3*i+1]), int(nums[3*i+2])] for i in range(len(nums)//3)]\n",
    "\n",
    "nums[:10]"
   ]
  },
  {
   "cell_type": "code",
   "execution_count": 10,
   "metadata": {
    "ExecuteTime": {
     "end_time": "2020-09-13T21:43:48.690591Z",
     "start_time": "2020-09-13T21:43:48.685538Z"
    }
   },
   "outputs": [],
   "source": [
    "# use dictionary to store vertices and their edges\n",
    "vertices = defaultdict(list)\n",
    "for num in nums:\n",
    "    vertices[num[0]].append((num[2], num[1]))\n",
    "    vertices[num[1]].append((num[2], num[0]))\n"
   ]
  },
  {
   "cell_type": "code",
   "execution_count": 11,
   "metadata": {
    "ExecuteTime": {
     "end_time": "2020-09-13T21:43:48.700810Z",
     "start_time": "2020-09-13T21:43:48.691993Z"
    }
   },
   "outputs": [
    {
     "name": "stdout",
     "output_type": "stream",
     "text": [
      "-3612829\n",
      "[1, 397, 228, 386, 343, 293, 159, 335, 160, 19, 328, 488, 167, 312, 474, 368, 369, 98, 475, 464, 267, 260, 268, 63, 62, 408, 479, 173, 172, 211, 428, 179, 2, 3, 144, 91, 104, 223, 443, 444, 442, 441, 384, 454, 103, 221, 366, 432, 285, 489, 360, 490, 365, 15, 206, 100, 133, 220, 135, 352, 276, 476, 398, 481, 450, 371, 323, 399, 102, 387, 183, 41, 332, 272, 496, 222, 16, 26, 202, 201, 45, 304, 138, 269, 431, 203, 406, 83, 340, 307, 258, 226, 149, 87, 122, 259, 136, 354, 284, 128, 412, 310, 341, 230, 315, 225, 35, 311, 283, 469, 82, 282, 349, 281, 422, 75, 470, 313, 373, 120, 117, 118, 94, 447, 448, 257, 93, 65, 232, 153, 72, 212, 286, 287, 288, 430, 109, 291, 437, 305, 155, 308, 389, 411, 61, 29, 88, 453, 317, 327, 51, 344, 300, 495, 157, 124, 123, 356, 466, 229, 208, 126, 139, 401, 480, 309, 346, 195, 196, 316, 275, 238, 239, 391, 146, 111, 52, 163, 185, 421, 435, 436, 191, 22, 101, 156, 31, 30, 324, 107, 85, 32, 486, 147, 148, 137, 64, 491, 217, 296, 363, 132, 110, 216, 131, 204, 467, 322, 76, 348, 264, 265, 426, 425, 219, 14, 498, 329, 330, 499, 301, 33, 382, 121, 338, 339, 169, 34, 449, 251, 294, 175, 176, 177, 11, 174, 205, 12, 13, 24, 459, 458, 28, 106, 249, 27, 99, 445, 446, 237, 130, 299, 359, 97, 485, 96, 388, 38, 95, 84, 477, 46, 214, 215, 56, 69, 235, 413, 125, 86, 213, 151, 261, 353, 266, 236, 374, 375, 492, 79, 39, 209, 90, 500, 314, 455, 231, 4, 364, 47, 241, 242, 393, 392, 165, 248, 482, 483, 164, 8, 7, 234, 233, 263, 277, 278, 198, 186, 200, 252, 197, 44, 116, 145, 43, 154, 190, 367, 253, 112, 465, 325, 270, 81, 345, 456, 334, 460, 143, 142, 243, 168, 289, 297, 433, 18, 434, 192, 400, 162, 351, 182, 193, 452, 497, 36, 37, 292, 67, 342, 407, 115, 20, 207, 362, 40, 336, 461, 462, 246, 180, 319, 318, 129, 376, 427, 150, 298, 418, 255, 440, 254, 280, 279, 439, 271, 181, 380, 73, 48, 381, 256, 416, 321, 357, 417, 463, 473, 472, 471, 57, 378, 361, 383, 337, 250, 113, 114, 227, 333, 58, 451, 89, 405, 295, 478, 424, 92, 409, 141, 105, 493, 410, 66, 108, 42, 152, 414, 60, 420, 370, 355, 240, 394, 274, 273, 290, 184, 350, 302, 158, 59, 403, 320, 170, 71, 224, 218, 244, 245, 385, 17, 423, 358, 395, 50, 187, 188, 68, 494, 134, 194, 9, 10, 390, 166, 49, 484, 140, 55, 74, 438, 171, 372, 419, 468, 347, 210, 457, 303, 70, 53, 77, 404, 199, 6, 25, 415, 379, 402, 80, 178, 247, 377, 161, 127, 189, 326, 262, 331, 78, 396, 54, 119, 429, 306, 487, 5, 21, 23]\n"
     ]
    }
   ],
   "source": [
    "X = set([1]) # vertices that have already been added to the spanning tree\n",
    "total_cost = 0 # total cost so far\n",
    "hq = vertices[1][:] # start with vertex #1\n",
    "heapify(hq) \n",
    "MST = [1]\n",
    "while hq:\n",
    "    cost, v = heappop(hq)\n",
    "    if v not in X:\n",
    "        total_cost += cost\n",
    "        X.add(v)\n",
    "        MST.append(v)\n",
    "        # check all the edges of new vertex v, if its vertex at the other end of edge not in X, add it to hq\n",
    "        for c, w in vertices[v]:\n",
    "            if w not in X:\n",
    "                heappush(hq, (c,w))\n",
    "                \n",
    "print(total_cost)\n",
    "print(MST)"
   ]
  },
  {
   "cell_type": "code",
   "execution_count": null,
   "metadata": {},
   "outputs": [],
   "source": []
  }
 ],
 "metadata": {
  "kernelspec": {
   "display_name": "Python 3",
   "language": "python",
   "name": "python3"
  },
  "language_info": {
   "codemirror_mode": {
    "name": "ipython",
    "version": 3
   },
   "file_extension": ".py",
   "mimetype": "text/x-python",
   "name": "python",
   "nbconvert_exporter": "python",
   "pygments_lexer": "ipython3",
   "version": "3.7.4"
  },
  "toc": {
   "base_numbering": 1,
   "nav_menu": {},
   "number_sections": false,
   "sideBar": false,
   "skip_h1_title": false,
   "title_cell": "Table of Contents",
   "title_sidebar": "Contents",
   "toc_cell": true,
   "toc_position": {},
   "toc_section_display": true,
   "toc_window_display": false
  }
 },
 "nbformat": 4,
 "nbformat_minor": 2
}
