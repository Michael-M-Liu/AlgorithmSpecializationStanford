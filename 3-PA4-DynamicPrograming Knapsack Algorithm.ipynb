{
 "cells": [
  {
   "cell_type": "markdown",
   "metadata": {
    "toc": true
   },
   "source": [
    "<h1>Table of Contents<span class=\"tocSkip\"></span></h1>\n",
    "<div class=\"toc\"><ul class=\"toc-item\"><li><span><a href=\"#Question-1\" data-toc-modified-id=\"Question-1-1\">Question 1</a></span></li><li><span><a href=\"#Question-2\" data-toc-modified-id=\"Question-2-2\">Question 2</a></span></li></ul></div>"
   ]
  },
  {
   "cell_type": "markdown",
   "metadata": {},
   "source": [
    "## Question 1\n",
    "In this programming problem and the next you'll code up the knapsack algorithm from lecture.\n",
    "\n",
    "Let's start with a warm-up. Download the text file below.\n",
    "\n",
    "knapsack1.txt\n",
    "This file describes a knapsack instance, and it has the following format:\n",
    "\n",
    "[knapsack_size][number_of_items]\n",
    "\n",
    "[value_1] [weight_1]\n",
    "\n",
    "[value_2] [weight_2]\n",
    "\n",
    "...\n",
    "\n",
    "For example, the third line of the file is \"50074 659\", indicating that the second item has value 50074 and size 659, respectively.\n",
    "\n",
    "You can assume that all numbers are positive. You should assume that item weights and the knapsack capacity are integers.\n",
    "\n",
    "In the box below, type in the value of the optimal solution.\n",
    "\n",
    "ADVICE: If you're not getting the correct answer, try debugging your algorithm using some small test cases. And then post them to the discussion forum!"
   ]
  },
  {
   "cell_type": "code",
   "execution_count": 1,
   "metadata": {
    "ExecuteTime": {
     "end_time": "2020-10-04T23:13:15.056368Z",
     "start_time": "2020-10-04T23:13:15.042510Z"
    }
   },
   "outputs": [
    {
     "data": {
      "text/plain": [
       "[[10000, 100], [16808, 250], [50074, 659], [8931, 273], [27545, 879]]"
      ]
     },
     "execution_count": 1,
     "metadata": {},
     "output_type": "execute_result"
    }
   ],
   "source": [
    "from collections import defaultdict\n",
    "\n",
    "# load data and convert to int\n",
    "\n",
    "f = open('knapsack1.txt', 'r')\n",
    "\n",
    "# f.readline()\n",
    "ls = f.readline().split()\n",
    "data = []\n",
    "while ls:\n",
    "    data.append([int(ls[0]), int(ls[1])])\n",
    "    ls = f.readline().split()\n",
    "f.close()\n",
    "\n",
    "data[:5]"
   ]
  },
  {
   "cell_type": "code",
   "execution_count": 2,
   "metadata": {
    "ExecuteTime": {
     "end_time": "2020-10-04T23:13:15.063629Z",
     "start_time": "2020-10-04T23:13:15.058333Z"
    }
   },
   "outputs": [],
   "source": [
    "# Recursively solve the problem\n",
    "\n",
    "def solve(i, j):    \n",
    "    if i == 0 or j <= 0:\n",
    "        value[i][j] = 0\n",
    "        return\n",
    "    \n",
    "    if j not in value[i-1]: # it means j at i-1 has NOT been calculated yet, then do call function to calculate it\n",
    "        solve(i-1, j)\n",
    "        \n",
    "#     print(i, j)\n",
    "    v, w = vw[i-1]\n",
    "    if w > j: # weight of item i does not fit into j\n",
    "        value[i][j] = value[i-1][j]\n",
    "    else:\n",
    "        if j - w not in value[i-1]:\n",
    "            solve(i-1, j-w)\n",
    "        value[i][j] = max(value[i-1][j], value[i-1][j-w] + v)"
   ]
  },
  {
   "cell_type": "code",
   "execution_count": 3,
   "metadata": {
    "ExecuteTime": {
     "end_time": "2020-10-04T23:13:15.910942Z",
     "start_time": "2020-10-04T23:13:15.065828Z"
    }
   },
   "outputs": [
    {
     "data": {
      "text/plain": [
       "{10000: 2493893}"
      ]
     },
     "execution_count": 3,
     "metadata": {},
     "output_type": "execute_result"
    }
   ],
   "source": [
    "n, W = data[0][1], data[0][0]\n",
    "vw = data[1:]\n",
    "# save values of different (i, j) i is the index of item, and j is the weight\n",
    "value = [dict() for i in range(n+1)]  \n",
    "\n",
    "solve(n, W)\n",
    "\n",
    "value[100]"
   ]
  },
  {
   "cell_type": "code",
   "execution_count": null,
   "metadata": {},
   "outputs": [],
   "source": []
  },
  {
   "cell_type": "markdown",
   "metadata": {},
   "source": [
    "## Question 2\n",
    "\n",
    "This problem also asks you to solve a knapsack instance, but a much bigger one.\n",
    "\n",
    "Download the text file below.\n",
    "\n",
    "knapsack_big.txt\n",
    "This file describes a knapsack instance, and it has the following format:\n",
    "\n",
    "[knapsack_size][number_of_items]\n",
    "\n",
    "[value_1] [weight_1]\n",
    "\n",
    "[value_2] [weight_2]\n",
    "\n",
    "...\n",
    "\n",
    "For example, the third line of the file is \"50074 834558\", indicating that the second item has value 50074 and size 834558, respectively. As before, you should assume that item weights and the knapsack capacity are integers.\n",
    "\n",
    "This instance is so big that the straightforward iterative implemetation uses an infeasible amount of time and space. So you will have to be creative to compute an optimal solution. One idea is to go back to a recursive implementation, solving subproblems --- and, of course, caching the results to avoid redundant work --- only on an \"as needed\" basis. Also, be sure to think about appropriate data structures for storing and looking up solutions to subproblems.\n",
    "\n",
    "In the box below, type in the value of the optimal solution.\n",
    "\n",
    "ADVICE: If you're not getting the correct answer, try debugging your algorithm using some small test cases. And then post them to the discussion forum!\n",
    "\n",
    "1 point\n"
   ]
  },
  {
   "cell_type": "code",
   "execution_count": 4,
   "metadata": {
    "ExecuteTime": {
     "end_time": "2020-10-04T23:13:15.923306Z",
     "start_time": "2020-10-04T23:13:15.913047Z"
    }
   },
   "outputs": [
    {
     "data": {
      "text/plain": [
       "[[2000000, 2000],\n",
       " [16808, 241486],\n",
       " [50074, 834558],\n",
       " [8931, 738037],\n",
       " [27545, 212860]]"
      ]
     },
     "execution_count": 4,
     "metadata": {},
     "output_type": "execute_result"
    }
   ],
   "source": [
    "# load data and convert to int\n",
    "\n",
    "f = open('knapsack_big.txt', 'r')\n",
    "\n",
    "ls = f.readline().split()\n",
    "data = []\n",
    "while ls:\n",
    "    data.append([int(ls[0]), int(ls[1])])\n",
    "    ls = f.readline().split()\n",
    "f.close()\n",
    "\n",
    "data[:5]"
   ]
  },
  {
   "cell_type": "code",
   "execution_count": 5,
   "metadata": {
    "ExecuteTime": {
     "end_time": "2020-10-04T23:13:26.262426Z",
     "start_time": "2020-10-04T23:13:15.925639Z"
    }
   },
   "outputs": [
    {
     "data": {
      "text/plain": [
       "{2000000: 4243395}"
      ]
     },
     "execution_count": 5,
     "metadata": {},
     "output_type": "execute_result"
    }
   ],
   "source": [
    "n, W = data[0][1], data[0][0]\n",
    "vw = data[1:]\n",
    "# save values of different (i, j) i is the index of item, and j is the weight\n",
    "value = [dict() for i in range(n+1)]  \n",
    "\n",
    "solve(n, W)\n",
    "\n",
    "value[n]"
   ]
  },
  {
   "cell_type": "code",
   "execution_count": null,
   "metadata": {},
   "outputs": [],
   "source": []
  }
 ],
 "metadata": {
  "kernelspec": {
   "display_name": "Python 3",
   "language": "python",
   "name": "python3"
  },
  "language_info": {
   "codemirror_mode": {
    "name": "ipython",
    "version": 3
   },
   "file_extension": ".py",
   "mimetype": "text/x-python",
   "name": "python",
   "nbconvert_exporter": "python",
   "pygments_lexer": "ipython3",
   "version": "3.7.4"
  },
  "toc": {
   "base_numbering": 1,
   "nav_menu": {},
   "number_sections": false,
   "sideBar": false,
   "skip_h1_title": false,
   "title_cell": "Table of Contents",
   "title_sidebar": "Contents",
   "toc_cell": true,
   "toc_position": {},
   "toc_section_display": true,
   "toc_window_display": false
  }
 },
 "nbformat": 4,
 "nbformat_minor": 2
}
