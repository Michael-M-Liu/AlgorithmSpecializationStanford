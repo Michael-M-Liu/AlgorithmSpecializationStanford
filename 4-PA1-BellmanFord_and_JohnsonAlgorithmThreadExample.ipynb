{
 "cells": [
  {
   "cell_type": "markdown",
   "metadata": {
    "toc": true
   },
   "source": [
    "<h1>Table of Contents<span class=\"tocSkip\"></span></h1>\n",
    "<div class=\"toc\"><ul class=\"toc-item\"><li><span><a href=\"#Floyd-Warshall-Algorithm\" data-toc-modified-id=\"Floyd-Warshall-Algorithm-1\">Floyd-Warshall Algorithm</a></span><ul class=\"toc-item\"><li><span><a href=\"#Multiprocessing-or-thread\" data-toc-modified-id=\"Multiprocessing-or-thread-1.1\">Multiprocessing or thread</a></span></li></ul></li><li><span><a href=\"#Johnson's-Algotirth-by-reweighting-the-edege-costs\" data-toc-modified-id=\"Johnson's-Algotirth-by-reweighting-the-edege-costs-2\">Johnson's Algotirth by reweighting the edege costs</a></span><ul class=\"toc-item\"><li><span><a href=\"#Bellman-Ford-Algorithm\" data-toc-modified-id=\"Bellman-Ford-Algorithm-2.1\">Bellman-Ford Algorithm</a></span></li><li><span><a href=\"#Dijkstra-Algolrith\" data-toc-modified-id=\"Dijkstra-Algolrith-2.2\">Dijkstra Algolrith</a></span></li><li><span><a href=\"#Johnson's-Algorithm\" data-toc-modified-id=\"Johnson's-Algorithm-2.3\">Johnson's Algorithm</a></span></li><li><span><a href=\"#Run-Johnson's-algorithm-on-all-the-files\" data-toc-modified-id=\"Run-Johnson's-algorithm-on-all-the-files-2.4\">Run Johnson's algorithm on all the files</a></span></li></ul></li><li><span><a href=\"#Speed-comparison-of-list-and-numpy-array\" data-toc-modified-id=\"Speed-comparison-of-list-and-numpy-array-3\">Speed comparison of list and numpy array</a></span></li></ul></div>"
   ]
  },
  {
   "cell_type": "markdown",
   "metadata": {},
   "source": [
    "In this assignment you will implement one or more algorithms for the all-pairs shortest-path problem. Here are data files describing three graphs:\n",
    "\n",
    "g1.txt\n",
    "g2.txt\n",
    "g3.txt\n",
    "The first line indicates the number of vertices and edges, respectively. Each subsequent line describes an edge (the first two numbers are its tail and head, respectively) and its length (the third number). NOTE: some of the edge lengths are negative. NOTE: These graphs may or may not have negative-cost cycles.\n",
    "\n",
    "Your task is to compute the \"shortest shortest path\". Precisely, you must first identify which, if any, of the three graphs have no negative cycles. For each such graph, you should compute all-pairs shortest paths and remember the smallest one (i.e., compute \\min_{u,v \\in V} d(u,v)min \n",
    "u,v∈V\n",
    "​\t\n",
    " d(u,v), where d(u,v)d(u,v) denotes the shortest-path distance from uu to vv).\n",
    "\n",
    "If each of the three graphs has a negative-cost cycle, then enter \"NULL\" in the box below. If exactly one graph has no negative-cost cycles, then enter the length of its shortest shortest path in the box below. If two or more of the graphs have no negative-cost cycles, then enter the smallest of the lengths of their shortest shortest paths in the box below.\n",
    "\n",
    "OPTIONAL: You can use whatever algorithm you like to solve this question. If you have extra time, try comparing the performance of different all-pairs shortest-path algorithms!\n",
    "\n",
    "OPTIONAL: Here is a bigger data set to play with.\n",
    "\n",
    "large.txt\n",
    "For fun, try computing the shortest shortest path of the graph in the file above."
   ]
  },
  {
   "cell_type": "code",
   "execution_count": 1,
   "metadata": {
    "ExecuteTime": {
     "end_time": "2020-10-21T02:18:18.416826Z",
     "start_time": "2020-10-21T02:18:18.335474Z"
    }
   },
   "outputs": [
    {
     "data": {
      "text/plain": [
       "[[1000, 47978], [1, 14, 6], [1, 25, 47], [1, 70, 22], [1, 82, 31]]"
      ]
     },
     "execution_count": 1,
     "metadata": {},
     "output_type": "execute_result"
    }
   ],
   "source": [
    "from collections import defaultdict\n",
    "\n",
    "# load data and convert to int\n",
    "def read_data(filename):\n",
    "    f = open(filename, 'r')\n",
    "    # f.readline()\n",
    "    ls = f.readline().split()\n",
    "    data = []\n",
    "    while ls:\n",
    "        data.append([int(i) for i in ls])\n",
    "        ls = f.readline().split()\n",
    "    f.close()\n",
    "    return data\n",
    "\n",
    "\n",
    "filenames = ['g1.txt', 'g2.txt', 'g3.txt']\n",
    "filename = 'g1.txt'\n",
    "data = read_data(filename)\n",
    "n = data[0][0]\n",
    "data[:5]"
   ]
  },
  {
   "cell_type": "markdown",
   "metadata": {},
   "source": [
    "## Floyd-Warshall Algorithm\n",
    "all pairs shortest path, valid with negative cost cycles, O(n^3) running time <br>\n",
    "number vertices from 1 to n, Save the shortest path in A[i, j, k] <br>\n",
    "for k from 1 to n: <br>\n",
    "&emsp; for i from 1 to n: <br>\n",
    "&emsp;&emsp; for j from 1 to n: <br>\n",
    "&emsp;&emsp;&emsp; A[i,j,k] = min(A[i,j,k-1], A[i,k,k-1]+A[k,j,k-1] <br>\n",
    "Base case:<br>\n",
    "&emsp; A[i,j,0] = 0 if i = j, Cij if i,j in E, infinity if i,j not in E <br>"
   ]
  },
  {
   "cell_type": "code",
   "execution_count": 2,
   "metadata": {
    "ExecuteTime": {
     "end_time": "2020-10-21T02:18:18.704129Z",
     "start_time": "2020-10-21T02:18:18.418990Z"
    },
    "code_folding": [
     3
    ]
   },
   "outputs": [],
   "source": [
    "import numpy as np\n",
    "import time\n",
    "\n",
    "def floyd_warshall(filename):\n",
    "    data = read_data(filename)\n",
    "    n = data[0][0]\n",
    "\n",
    "    # save all the edges in a dictionary\n",
    "    edges = {(e[0],e[1]):e[2] for e in data[1:]}\n",
    "    \n",
    "    print('initialize cost matrix for ', filename)\n",
    "    \n",
    "    # initialize the cost matrix\n",
    "    \n",
    "    cost = np.zeros((n, n, n+1))\n",
    "    for i in range(n):\n",
    "        for j in range(n):\n",
    "            if i != j:            \n",
    "                cost[i, j, 0] = edges.get((i+1, j+1), float('inf'))\n",
    "    \n",
    "    print('run floyd algorithm ', filename)\n",
    "    \n",
    "    # run Floyd-Warshall Algorithm\n",
    "    t0 = time.time()\n",
    "    for k in range(1, n):\n",
    "        if k % 100 == 0:\n",
    "            print(filename, k)\n",
    "        for i in range(n):\n",
    "            for j in range(n):\n",
    "                cost[i, j, k] = min(cost[i, j, k-1], cost[i, k-1, k-1] + cost[k-1, j, k-1])\n",
    "            \n",
    "    print(time.time() - t0)\n",
    "    \n",
    "    return cost\n",
    "                \n",
    "    # check if diagonal is negative\n",
    "    \n",
    "    for i in range(n):\n",
    "        if cost[i, i, n] < 0:\n",
    "            print(cost[i, i, n])\n",
    "            return float('-inf')\n",
    "                \n",
    "    return cost.min()\n",
    "\n",
    "## save results in a list in stead of np array, iteration is a little bit faster\n",
    "def floyd_warshall_list(filename):\n",
    "    data = read_data(filename)\n",
    "    n = data[0][0]\n",
    "\n",
    "    # save all the edges in a dictionary\n",
    "    edges = {(e[0],e[1]):e[2] for e in data[1:]}\n",
    "    \n",
    "    print('initialize cost matrix for ', filename)\n",
    "    \n",
    "    # initialize the cost matrix\n",
    "    \n",
    "    cost = [0] * n\n",
    "    for i in range(n):\n",
    "        temp = [0] * n\n",
    "        for j in range(n):\n",
    "            temp1 = [0] * (n + 1)\n",
    "            if i != j:\n",
    "                temp1[0] = edges.get((i+1, j+1), float('inf'))\n",
    "            temp[j] = temp1\n",
    "        cost[i] = temp\n",
    "    \n",
    "    print('run floyd algorithm ', filename)\n",
    "    \n",
    "    # run Floyd-Warshall Algorithm\n",
    "    t0 = time.time()\n",
    "    for k in range(1, n):\n",
    "        if k % 100 == 0:\n",
    "            print(filename, k)\n",
    "        for i in range(n):\n",
    "            for j in range(n):\n",
    "                cost[i][j][k] = min(cost[i][j][k-1], cost[i][k-1][k-1] + cost[k-1][j][k-1])\n",
    "#                 print(i, j, k, cost[i][j][k])\n",
    "            \n",
    "    print(time.time() - t0)\n",
    "    \n",
    "    return cost\n",
    "                \n",
    "    # check if diagonal is negative\n",
    "    \n",
    "    for i in range(n):\n",
    "        if cost[i][i][n] < 0:\n",
    "            print(cost[i][i][n])\n",
    "            return float('-inf')\n",
    "                \n",
    "\n"
   ]
  },
  {
   "cell_type": "code",
   "execution_count": 3,
   "metadata": {
    "ExecuteTime": {
     "end_time": "2020-10-21T02:32:40.123491Z",
     "start_time": "2020-10-21T02:18:18.706666Z"
    }
   },
   "outputs": [
    {
     "name": "stdout",
     "output_type": "stream",
     "text": [
      "initialize cost matrix for  g3.txt\n",
      "run floyd algorithm  g3.txt\n",
      "g3.txt 100\n",
      "g3.txt 200\n",
      "g3.txt 300\n",
      "g3.txt 400\n",
      "g3.txt 500\n",
      "g3.txt 600\n",
      "g3.txt 700\n",
      "g3.txt 800\n",
      "g3.txt 900\n",
      "827.4643359184265\n"
     ]
    }
   ],
   "source": [
    "costs =[]\n",
    "filenames = ['g3.txt']\n",
    "for filename in filenames:\n",
    "    costs.append(floyd_warshall_list(filename))\n",
    "\n",
    "# costs"
   ]
  },
  {
   "cell_type": "code",
   "execution_count": 4,
   "metadata": {
    "ExecuteTime": {
     "end_time": "2020-10-21T02:32:56.162262Z",
     "start_time": "2020-10-21T02:32:40.134165Z"
    }
   },
   "outputs": [
    {
     "name": "stdout",
     "output_type": "stream",
     "text": [
      "-19\n"
     ]
    }
   ],
   "source": [
    "# find the minimum among all the shortest cost\n",
    "\n",
    "for cost in costs:\n",
    "#     print(min([min([(min(j) for j in i)]) for i in cost]))\n",
    "    mn = float('inf')\n",
    "    for i in cost:\n",
    "        for j in i:\n",
    "            mn = min(mn, min(j))\n",
    "    print(mn)"
   ]
  },
  {
   "cell_type": "code",
   "execution_count": null,
   "metadata": {},
   "outputs": [],
   "source": []
  },
  {
   "cell_type": "markdown",
   "metadata": {},
   "source": [
    "### Multiprocessing or thread\n",
    " - multithread doesn't help to spead up the calculation since it's cpu bounded. <br>\n",
    " - multiprocessing use vcore in parallel and doesn't share memory"
   ]
  },
  {
   "cell_type": "code",
   "execution_count": 5,
   "metadata": {
    "ExecuteTime": {
     "end_time": "2020-10-21T02:32:56.369419Z",
     "start_time": "2020-10-21T02:32:56.171930Z"
    }
   },
   "outputs": [
    {
     "name": "stdout",
     "output_type": "stream",
     "text": [
      "0\n",
      "0\n",
      "0\n",
      "False\n",
      "False\n",
      "False\n"
     ]
    }
   ],
   "source": [
    "import sys, threading\n",
    "from multiprocessing import Process\n",
    "from threading import Thread\n",
    "\n",
    "# sys.setrecursionlimit(800000)\n",
    "# threading.stack_size(67108864)\n",
    "\n",
    "min_costs = []\n",
    "threads = []\n",
    "\n",
    "\n",
    "def main(filename):\n",
    "    global min_costs\n",
    "#     min_cost = floyd_warshall(filename)\n",
    "    min_cost = 0\n",
    "    min_costs.append([filename, min_cost])\n",
    "    print(min_cost)\n",
    "\n",
    "    \n",
    "filenames = ['g1.txt', 'g2.txt', 'g3.txt']\n",
    "for filename in filenames:\n",
    "    thread = Process(target=main, args=(filename,))\n",
    "    thread.daemon = True\n",
    "    threads.append(thread)\n",
    "    thread.start()\n",
    "    \n",
    "[thread.join() for thread in threads]\n",
    "\n",
    "min_costs\n",
    "\n",
    "for thread in threads:\n",
    "    print(thread.is_alive())"
   ]
  },
  {
   "cell_type": "markdown",
   "metadata": {},
   "source": [
    "## Johnson's Algotirth by reweighting the edege costs\n",
    "\n",
    "1. Form G' by add a new vertex s to all the vertices v with edge cost of 0 \n",
    "2. Run Bellman-Ford on G' with source vertex s. If detecting a negative cycle, it must be in G; report and halt.\n",
    "3. For each v in G let p_v the shortest s-v path in G; for each e=(u,v) in G define c_e' = c_e + p_u - p_v\n",
    "4. For each u in G: run Dijkstra's algorithm in G with edges {c_e'}, compute the shortest path d(u,v)' for each v in G\n",
    "5. For each pair (u, v) in G return the shortest path d(u,v) = d(u,v)' + p_v - p_u "
   ]
  },
  {
   "cell_type": "markdown",
   "metadata": {},
   "source": [
    "### Bellman-Ford Algorithm\n",
    " - works for graphs with negative edges and negative cost cycles\n",
    " - running time O(m*n)\n",
    " - single source shortest path\n",
    "1. Let A 2D array with index i and v\n",
    "2. Base case: A[0,s] = 0, A[0,v] = inf for all v != s\n",
    "3. for i from 1 to n-1: <br>\n",
    " &emsp; for each v in G: <br>\n",
    " &emsp; &emsp; A[i, v] = min(A[i-1,v], min(A[i-1,w] + c_wv) for w in edges of v)\n",
    " \n",
    " "
   ]
  },
  {
   "cell_type": "code",
   "execution_count": 6,
   "metadata": {
    "ExecuteTime": {
     "end_time": "2020-10-21T02:32:56.379670Z",
     "start_time": "2020-10-21T02:32:56.373067Z"
    }
   },
   "outputs": [],
   "source": [
    "## convert edges in the format [[w, v, cost], ....] to { v: [[w1, e1], [w2, e2], ...], v2: ...}\n",
    "\n",
    "def to_inward_edges(data):\n",
    "    edges = defaultdict(list)\n",
    "    for d in data:\n",
    "        edges[d[1]-1].append([d[0]-1, d[2]])  # change vertex number to 0 indexed from 1 indexed\n",
    "        \n",
    "    return edges\n",
    "\n",
    "def bellman_ford(inward_edges, n, source):\n",
    "    curr = [float('inf')] * n\n",
    "    curr[source] = 0  \n",
    "    for i in range(n):\n",
    "        prev = curr[:]\n",
    "        for v in range(n):\n",
    "            curr[v] = min([prev[w] + cost for w, cost in inward_edges[v]] + [prev[v]])\n",
    "                \n",
    "    return [prev, curr]\n",
    "           "
   ]
  },
  {
   "cell_type": "markdown",
   "metadata": {},
   "source": [
    "### Dijkstra Algolrith\n",
    " - only works on graphs with non-negative edges\n",
    " - running time O(mlog(n)"
   ]
  },
  {
   "cell_type": "code",
   "execution_count": 7,
   "metadata": {
    "ExecuteTime": {
     "end_time": "2020-10-21T02:32:56.387166Z",
     "start_time": "2020-10-21T02:32:56.381941Z"
    }
   },
   "outputs": [],
   "source": [
    "# edges in a dictionary in a format v1: [[w1, ce1], [w2, ce2], [w3, ce3], ... ]\n",
    "# source: starting vertex number\n",
    "import heapq\n",
    "\n",
    "def Dijkstra(edges, source):    \n",
    "    X = set()  # list of vertices that have been visited\n",
    "    hq = [(0, source)]  # start from source vertex with distance of 0, (dist, vertex)\n",
    "    n = 0  # number of processes in the while loop\n",
    "    min_cost = dict()  # vertex as the key and its shortest distance as the value, vertex: dist\n",
    "\n",
    "    while hq:\n",
    "        n += 1\n",
    "        dist, v = heapq.heappop(hq)\n",
    "        if v not in X:\n",
    "            X.add(v) \n",
    "\n",
    "            # check all the neighbors of the vertex v\n",
    "            for w, length in edges[v]:\n",
    "                if w not in X:\n",
    "                    curr = dist + length\n",
    "                    if (w not in min_cost) or curr < min_cost[w]:               \n",
    "                        min_cost[w] = curr\n",
    "                        heapq.heappush(hq, (curr, w))\n",
    "\n",
    "#     print(n)\n",
    "    return min_cost"
   ]
  },
  {
   "cell_type": "markdown",
   "metadata": {},
   "source": [
    "### Johnson's Algorithm"
   ]
  },
  {
   "cell_type": "code",
   "execution_count": 8,
   "metadata": {
    "ExecuteTime": {
     "end_time": "2020-10-21T02:32:56.400741Z",
     "start_time": "2020-10-21T02:32:56.391270Z"
    }
   },
   "outputs": [],
   "source": [
    "def johnson_algorithm(filename):\n",
    "    \n",
    "    ### Run steps 1 and 2 to calculate cost from a virtual vertex and detect negative-cost cycle\n",
    "    data = read_data(filename)\n",
    "    n = data[0][0]\n",
    "\n",
    "    # add a new vertex (n+1) to G with edge cost of 0 to all the vertices from 1 to n\n",
    "    for i in range(1, n+1):\n",
    "        data.append([n+1, i, 0])\n",
    "\n",
    "    inward_edges = to_inward_edges(data[1:])\n",
    "    prev, curr = bellman_ford(inward_edges, n + 1, n)\n",
    "    cycle = 'no negative cost cycle' if prev == curr else 'negative cost cycle found'\n",
    "    \n",
    "    print(filename, min(prev), min(curr), cycle)\n",
    "\n",
    "    ### Run the rest of codes only if there is NO negative cost cycles\n",
    "    \n",
    "    if prev == curr:\n",
    "        min_costs = [0] * n  # 2D array to store minimum costs of the path for all possible (u,v) pairs\n",
    "        \n",
    "        ## Step 3: reweight all the edges to make them non-negative\n",
    "        # save all the edges in a dictionary in a format v1: [[w1, ce1], [w2, ce2], [w3, ce3], ... ]\n",
    "        # reweight edge cost with Bellman-Ford results\n",
    "        \n",
    "        edges = defaultdict(list)\n",
    "        for d in data[1:]:\n",
    "            new_edge = d[2] + curr[d[0]-1] - curr[d[1]-1]\n",
    "            if new_edge < 0:\n",
    "                print(new_edge)\n",
    "            edges[d[0]-1].append([d[1]-1, new_edge])  # change to 0 indexed from 1-indexed\n",
    "        \n",
    "        ## Step 4 and 5: run Dijkstra algorithm on each v in G' and caculate the original minimum costs \n",
    "        \n",
    "        for i in range(n):\n",
    "            min_cost = Dijkstra(edges, i)\n",
    "            new_min = [ 0 ] * n  # orignal min_cost of the path from i to all the other vertices\n",
    "            for v in min_cost:\n",
    "                new_min[v] = min_cost[v] + curr[v] - curr[i]\n",
    "            min_costs[i] = new_min\n",
    "            \n",
    "        return min_costs\n",
    "    \n",
    "    return []"
   ]
  },
  {
   "cell_type": "markdown",
   "metadata": {
    "ExecuteTime": {
     "end_time": "2020-10-19T04:50:50.404819Z",
     "start_time": "2020-10-19T04:50:50.402692Z"
    }
   },
   "source": [
    "### Run Johnson's algorithm on all the files"
   ]
  },
  {
   "cell_type": "code",
   "execution_count": 9,
   "metadata": {
    "ExecuteTime": {
     "end_time": "2020-10-21T02:33:46.265419Z",
     "start_time": "2020-10-21T02:32:56.403055Z"
    },
    "scrolled": true
   },
   "outputs": [
    {
     "name": "stdout",
     "output_type": "stream",
     "text": [
      "g1.txt -1749 -1750 negative cost cycle found\n",
      "shortest shortest cost:  inf\n",
      "g2.txt -1547 -1548 negative cost cycle found\n",
      "shortest shortest cost:  inf\n",
      "g3.txt -19 -19 no negative cost cycle\n",
      "shortest shortest cost:  -19\n",
      "start and end vertices of the shortest path: 398 903\n"
     ]
    }
   ],
   "source": [
    "# run Johnson's algorithm on three small files\n",
    "def main(filename):\n",
    "    min_costs = johnson_algorithm(filename)\n",
    "    min_cost = min([min(c) for c in min_costs]) if min_costs else float('inf')\n",
    "    print('shortest shortest cost: ', min_cost)\n",
    "    \n",
    "    # find start and end vertex of the shortest shortest cost\n",
    "    if min_costs:\n",
    "        for i, cost in enumerate(min_costs):\n",
    "            for j, c in enumerate(cost):\n",
    "                if c == min_cost:\n",
    "                    print('start and end vertices of the shortest path:', i, j)\n",
    "                    \n",
    "filenames = ['g1.txt', 'g2.txt', 'g3.txt']\n",
    "for filename in filenames:\n",
    "    main(filename)"
   ]
  },
  {
   "cell_type": "code",
   "execution_count": 10,
   "metadata": {
    "ExecuteTime": {
     "end_time": "2020-10-21T02:33:46.269395Z",
     "start_time": "2020-10-21T02:33:46.267627Z"
    }
   },
   "outputs": [],
   "source": [
    "### Run Johnson's algorithm on the large file; May take 7 hours to finish\n",
    "\n",
    "# main('large.txt')"
   ]
  },
  {
   "cell_type": "markdown",
   "metadata": {},
   "source": [
    "## Speed comparison of list and numpy array"
   ]
  },
  {
   "cell_type": "code",
   "execution_count": 11,
   "metadata": {
    "ExecuteTime": {
     "end_time": "2020-10-21T02:34:10.803217Z",
     "start_time": "2020-10-21T02:33:46.271694Z"
    }
   },
   "outputs": [
    {
     "name": "stdout",
     "output_type": "stream",
     "text": [
      "254 ms ± 12.5 ms per loop (mean ± std. dev. of 7 runs, 1 loop each)\n",
      "135 ms ± 5.05 ms per loop (mean ± std. dev. of 7 runs, 10 loops each)\n",
      "135 ms ± 1.5 ms per loop (mean ± std. dev. of 7 runs, 10 loops each)\n"
     ]
    }
   ],
   "source": [
    "## speed comparison of different implementation of lists\n",
    "\n",
    "def list_1(n): \n",
    "    cost = [0] * n \n",
    "    for i in range(n):\n",
    "        temp0 = [0] * n\n",
    "        for j in range(n):\n",
    "            temp0[j] =  [10*i + j if i != j else 0] + [0] * n  # concatenate list\n",
    "        cost[i] = temp0\n",
    "\n",
    "def list_2(n):\n",
    "    cost = [0] * n \n",
    "    for i in range(n):\n",
    "        temp0 = [0] * n\n",
    "        for j in range(n):\n",
    "            temp = [0] * (n + 1)\n",
    "            temp[0] = 10*i + j if i != j else 0\n",
    "            temp0[j] = temp\n",
    "        cost[i] = temp0\n",
    "        \n",
    "def list_3(n): \n",
    "    cost = []\n",
    "    for i in range(n):\n",
    "        temp0 = []\n",
    "        for j in range(n):\n",
    "            temp = [0] * (n + 1)\n",
    "            temp[0] = 10*i + j if i != j else 0\n",
    "            temp0.append(temp)  # use append\n",
    "        cost.append(temp0)    # use append\n",
    "\n",
    "n = 300\n",
    "%timeit list_1(n)\n",
    "\n",
    "%timeit list_2(n)\n",
    "\n",
    "%timeit list_3(n)"
   ]
  },
  {
   "cell_type": "code",
   "execution_count": 12,
   "metadata": {
    "ExecuteTime": {
     "end_time": "2020-10-21T02:34:12.359190Z",
     "start_time": "2020-10-21T02:34:10.805861Z"
    }
   },
   "outputs": [],
   "source": [
    "b = np.zeros((n,n,n))\n",
    "a = b.tolist()"
   ]
  },
  {
   "cell_type": "code",
   "execution_count": 13,
   "metadata": {
    "ExecuteTime": {
     "end_time": "2020-10-21T02:34:28.018172Z",
     "start_time": "2020-10-21T02:34:12.361775Z"
    }
   },
   "outputs": [
    {
     "name": "stdout",
     "output_type": "stream",
     "text": [
      "1.19 s ± 23.6 ms per loop (mean ± std. dev. of 7 runs, 1 loop each)\n",
      "734 ms ± 19.3 ms per loop (mean ± std. dev. of 7 runs, 1 loop each)\n"
     ]
    }
   ],
   "source": [
    "def t_array(n):\n",
    "    for k in range(n):\n",
    "        for i in range(n):\n",
    "            for j in range(n):\n",
    "                b[i,j,k] = min(b[i,j,k-1], b[i, k-1, k-1] + b[k-1, j, k-1])\n",
    "\n",
    "def t_list(n):\n",
    "    for k in range(n):\n",
    "        for i in range(n):\n",
    "            for j in range(n):\n",
    "                a[i][j][k] = min(a[i][j][k-1], a[i][k-1][k-1] + a[k-1][j][k-1])\n",
    "\n",
    "n = 100\n",
    "%timeit t_array(n)\n",
    "%timeit t_list(n)"
   ]
  },
  {
   "cell_type": "code",
   "execution_count": 14,
   "metadata": {
    "ExecuteTime": {
     "end_time": "2020-10-21T02:34:28.026576Z",
     "start_time": "2020-10-21T02:34:28.020036Z"
    }
   },
   "outputs": [
    {
     "data": {
      "text/plain": [
       "100"
      ]
     },
     "execution_count": 14,
     "metadata": {},
     "output_type": "execute_result"
    }
   ],
   "source": [
    "n"
   ]
  },
  {
   "cell_type": "code",
   "execution_count": null,
   "metadata": {},
   "outputs": [],
   "source": []
  }
 ],
 "metadata": {
  "kernelspec": {
   "display_name": "Python 3",
   "language": "python",
   "name": "python3"
  },
  "language_info": {
   "codemirror_mode": {
    "name": "ipython",
    "version": 3
   },
   "file_extension": ".py",
   "mimetype": "text/x-python",
   "name": "python",
   "nbconvert_exporter": "python",
   "pygments_lexer": "ipython3",
   "version": "3.7.4"
  },
  "toc": {
   "base_numbering": 1,
   "nav_menu": {},
   "number_sections": false,
   "sideBar": false,
   "skip_h1_title": false,
   "title_cell": "Table of Contents",
   "title_sidebar": "Contents",
   "toc_cell": true,
   "toc_position": {},
   "toc_section_display": true,
   "toc_window_display": false
  }
 },
 "nbformat": 4,
 "nbformat_minor": 2
}
