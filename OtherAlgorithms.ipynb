{
 "cells": [
  {
   "cell_type": "markdown",
   "metadata": {
    "toc": true
   },
   "source": [
    "<h1>Table of Contents<span class=\"tocSkip\"></span></h1>\n",
    "<div class=\"toc\"><ul class=\"toc-item\"><li><span><a href=\"#Climbing-Stairs,-Threading-Calc\" data-toc-modified-id=\"Climbing-Stairs,-Threading-Calc-1\">Climbing Stairs, Threading Calc</a></span></li><li><span><a href=\"#Binary-Search\" data-toc-modified-id=\"Binary-Search-2\">Binary Search</a></span></li><li><span><a href=\"#Merge-Sort\" data-toc-modified-id=\"Merge-Sort-3\">Merge Sort</a></span></li><li><span><a href=\"#Quick-Sort\" data-toc-modified-id=\"Quick-Sort-4\">Quick Sort</a></span></li><li><span><a href=\"#Find-median-of-two-sorted-array\" data-toc-modified-id=\"Find-median-of-two-sorted-array-5\">Find median of two sorted array</a></span></li><li><span><a href=\"#find-minimum-number-of-deletions-from-two-strings-to-make-anagram\" data-toc-modified-id=\"find-minimum-number-of-deletions-from-two-strings-to-make-anagram-6\">find minimum number of deletions from two strings to make anagram</a></span></li><li><span><a href=\"#find-median-of-a-list\" data-toc-modified-id=\"find-median-of-a-list-7\">find median of a list</a></span></li></ul></div>"
   ]
  },
  {
   "cell_type": "code",
   "execution_count": 17,
   "metadata": {
    "ExecuteTime": {
     "end_time": "2020-03-07T05:15:43.919923Z",
     "start_time": "2020-03-07T05:15:43.914994Z"
    }
   },
   "outputs": [
    {
     "name": "stdout",
     "output_type": "stream",
     "text": [
      "[5, 2]\n"
     ]
    }
   ],
   "source": [
    "def get_digits(n: int, l: list) -> list:\n",
    "    if n > 10: \n",
    "        return get_digits(int(n/10), l + [n % 10])\n",
    "    else:\n",
    "        return l + [n]\n",
    "digits = get_digits(25, [])\n",
    "print(digits)"
   ]
  },
  {
   "cell_type": "markdown",
   "metadata": {},
   "source": [
    "## Climbing Stairs, Threading Calc"
   ]
  },
  {
   "cell_type": "code",
   "execution_count": 7,
   "metadata": {
    "ExecuteTime": {
     "end_time": "2021-03-16T17:11:09.357820Z",
     "start_time": "2021-03-16T17:11:08.663910Z"
    },
    "code_folding": []
   },
   "outputs": [],
   "source": [
    "# climbing stairs, total n stairs, each time can take 1 or 2 stairs. how many ways of climbing the stairs\n",
    "\"\"\"\n",
    "You are climbing a stair case. It takes n steps to reach to the top.\n",
    "\n",
    "Each time you can either climb 1 or 2 steps. In how many distinct ways can you climb to the top?\n",
    "\n",
    "Note: Given n will be a positive integer.\n",
    "\n",
    "Example 1: Input: 2 Output: 2\n",
    "\n",
    "Explanation: There are two ways to climb to the top.\n",
    "\n",
    "1 step + 1 step\n",
    "2 steps\n",
    "Example 2: Input: 3 Output: 3\n",
    "\n",
    "Explanation: There are three ways to climb to the top.\n",
    "\n",
    "1 step + 1 step + 1 step\n",
    "1 step + 2 steps\n",
    "2 steps + 1 step\n",
    "\"\"\"\n",
    "def stairs(n):\n",
    "    if n == 2:\n",
    "        return 2\n",
    "    if n == 1:\n",
    "        return 1\n",
    "    \n",
    "    return stairs(n-1) + stairs(n-2)\n",
    "\n",
    "stairs(30)\n",
    "\n",
    "def fibonacci(n):\n",
    "    first = 1\n",
    "    second = 2\n",
    "    if n == 1:\n",
    "        return 1\n",
    "    if n == 2:\n",
    "        return 2\n",
    "    \n",
    "    for i in range(n-2):\n",
    "        second, first = first + second, second\n",
    "        \n",
    "    return second\n",
    "\n",
    "fibonacci(30)\n",
    "\n",
    "from threading import Thread\n",
    "\n",
    "res = []\n",
    "\n",
    "def save_res(n):\n",
    "    res.append(stairs(n))\n",
    "    \n",
    "def save_fib(n):\n",
    "    res.append(fibonacci(n))\n",
    "\n",
    "Thread(target=save_res, args=(40,)).start()\n",
    "Thread(target=save_fib, args=(40,)).start()"
   ]
  },
  {
   "cell_type": "markdown",
   "metadata": {},
   "source": [
    "## Binary Search"
   ]
  },
  {
   "cell_type": "code",
   "execution_count": 4,
   "metadata": {
    "ExecuteTime": {
     "end_time": "2021-03-26T18:32:56.987605Z",
     "start_time": "2021-03-26T18:32:56.976492Z"
    }
   },
   "outputs": [
    {
     "name": "stdout",
     "output_type": "stream",
     "text": [
      "4 4\n"
     ]
    },
    {
     "data": {
      "text/plain": [
       "5"
      ]
     },
     "execution_count": 4,
     "metadata": {},
     "output_type": "execute_result"
    }
   ],
   "source": [
    "# find a num in a sorted array, return the postion of the number, \n",
    "# if not found return the positon where the number should be inserted \n",
    "\n",
    "def find(arr, num):\n",
    "    n = len(arr)\n",
    "    \n",
    "    if n < 1:\n",
    "        return 0\n",
    "    \n",
    "    i, j = 0, n-1\n",
    "    \n",
    "    while i < j:\n",
    "        m = int((i + j + 1) / 2)  # m always <= j and > i\n",
    "        if num >= arr[m]:\n",
    "            i = m\n",
    "        else:\n",
    "            j = m - 1\n",
    "    \n",
    "    print(i, j)\n",
    "    if num <= arr[i]:\n",
    "        return i\n",
    "    else:\n",
    "        return i + 1\n",
    "\n",
    "# recursive approach\n",
    "def loop(arr, num, left, right):\n",
    "    if left == right:\n",
    "        if num <= arr[left]:\n",
    "            return left\n",
    "        else:\n",
    "            return left + 1\n",
    "    else:\n",
    "        m = (left + right + 1) // 2  # m is always <= right and > left\n",
    "        if num >= arr[m]:\n",
    "            return loop(arr, num, m, right)  # need include m for the case of num==arr[m]\n",
    "        else:\n",
    "            return loop(arr, num, left, m-1)\n",
    " \n",
    "def search(arr, num):\n",
    "    if len(arr) < 1:\n",
    "        return 0\n",
    "    return loop(arr, num, 0, len(num)-1)\n",
    "\n",
    "arr = [1, 2, 3, 5, 6]\n",
    "\n",
    "find(arr, 7)\n"
   ]
  },
  {
   "cell_type": "code",
   "execution_count": 12,
   "metadata": {
    "ExecuteTime": {
     "end_time": "2021-03-16T17:12:14.398604Z",
     "start_time": "2021-03-16T17:12:14.394464Z"
    }
   },
   "outputs": [
    {
     "data": {
      "text/plain": [
       "[165580141, 165580141]"
      ]
     },
     "execution_count": 12,
     "metadata": {},
     "output_type": "execute_result"
    }
   ],
   "source": [
    "res"
   ]
  },
  {
   "cell_type": "code",
   "execution_count": 201,
   "metadata": {
    "ExecuteTime": {
     "end_time": "2020-03-10T05:47:42.891205Z",
     "start_time": "2020-03-10T05:47:42.884391Z"
    }
   },
   "outputs": [
    {
     "data": {
      "text/plain": [
       "3"
      ]
     },
     "execution_count": 201,
     "metadata": {},
     "output_type": "execute_result"
    }
   ],
   "source": [
    "import functools\n",
    "\n",
    "functools.reduce(lambda a, b: a+b, set(a))"
   ]
  },
  {
   "cell_type": "code",
   "execution_count": 67,
   "metadata": {
    "ExecuteTime": {
     "end_time": "2020-03-27T18:19:49.959387Z",
     "start_time": "2020-03-27T18:19:49.952821Z"
    }
   },
   "outputs": [
    {
     "name": "stdout",
     "output_type": "stream",
     "text": [
      "[1, 3]\n"
     ]
    },
    {
     "data": {
      "text/plain": [
       "'Too chaotic'"
      ]
     },
     "execution_count": 67,
     "metadata": {},
     "output_type": "execute_result"
    }
   ],
   "source": [
    "def minimumBribes(q):\n",
    "    n = len(q)\n",
    "    diff = [ q[i] - i - 1 for i in range(n) if q[i]>= i+1]\n",
    "    print(diff)\n",
    "    if (max(diff) > 2):\n",
    "        return \"Too chaotic\"\n",
    "    else:\n",
    "        return sum(diff);\n",
    "minimumBribes([2,5,1,3, 4])"
   ]
  },
  {
   "cell_type": "code",
   "execution_count": 212,
   "metadata": {
    "ExecuteTime": {
     "end_time": "2020-03-10T05:50:26.740822Z",
     "start_time": "2020-03-10T05:50:26.737102Z"
    }
   },
   "outputs": [],
   "source": [
    "myset = set()\n",
    "if myset:\n",
    "    print(\"hello\")"
   ]
  },
  {
   "cell_type": "code",
   "execution_count": 216,
   "metadata": {
    "ExecuteTime": {
     "end_time": "2020-03-10T05:51:17.638424Z",
     "start_time": "2020-03-10T05:51:17.634153Z"
    }
   },
   "outputs": [
    {
     "data": {
      "text/plain": [
       "{0: 1, 1: 1, 2: 1, 3: 2, 4: 2, 5: 2, 6: 2}"
      ]
     },
     "execution_count": 216,
     "metadata": {},
     "output_type": "execute_result"
    }
   ],
   "source": [
    "mydic = {v:k for v,k in enumerate(a)}\n",
    "mydic"
   ]
  },
  {
   "cell_type": "code",
   "execution_count": 217,
   "metadata": {
    "ExecuteTime": {
     "end_time": "2020-03-10T05:51:20.848010Z",
     "start_time": "2020-03-10T05:51:20.844123Z"
    }
   },
   "outputs": [
    {
     "data": {
      "text/plain": [
       "1"
      ]
     },
     "execution_count": 217,
     "metadata": {},
     "output_type": "execute_result"
    }
   ],
   "source": [
    "mydic.pop(1)"
   ]
  },
  {
   "cell_type": "code",
   "execution_count": 87,
   "metadata": {
    "ExecuteTime": {
     "end_time": "2020-03-08T05:55:45.486566Z",
     "start_time": "2020-03-08T05:55:45.483045Z"
    }
   },
   "outputs": [
    {
     "name": "stdout",
     "output_type": "stream",
     "text": [
      "0\n",
      "1\n",
      "2\n"
     ]
    }
   ],
   "source": [
    "for e in mydic:\n",
    "    print(e)"
   ]
  },
  {
   "cell_type": "code",
   "execution_count": 88,
   "metadata": {
    "ExecuteTime": {
     "end_time": "2020-03-08T05:56:21.634959Z",
     "start_time": "2020-03-08T05:56:21.626171Z"
    }
   },
   "outputs": [
    {
     "name": "stdout",
     "output_type": "stream",
     "text": [
      "{1: 4, 2: 3, 3: 1, 4: 2}\n",
      "{4: 1, 3: 2, 1: 3, 2: 4}\n",
      "1 4\n",
      "2 3\n",
      "3 4\n"
     ]
    },
    {
     "data": {
      "text/plain": [
       "3"
      ]
     },
     "execution_count": 88,
     "metadata": {},
     "output_type": "execute_result"
    }
   ],
   "source": [
    "def minimumSwaps(arr):\n",
    "    swap = {i + 1:e for i, e in enumerate(arr) if e != i + 1}\n",
    "    print(swap)\n",
    "    dic = {e: i + 1 for i, e in enumerate(arr) if e != i + 1}\n",
    "    print(dic)\n",
    "    keys = swap.keys()\n",
    "    count = 0 \n",
    "    for key in keys:\n",
    "        dic = {swap[k]: k for k in swap}\n",
    "        value = swap[key]\n",
    "        if value != key:\n",
    "            print(key, value)\n",
    "            swap[key] = key\n",
    "            swap[dic[key]] = value\n",
    "            count += 1\n",
    "            \n",
    "    return count\n",
    "\n",
    "minimumSwaps([4, 3, 1, 2])"
   ]
  },
  {
   "cell_type": "code",
   "execution_count": 218,
   "metadata": {
    "ExecuteTime": {
     "end_time": "2020-03-10T05:52:01.005101Z",
     "start_time": "2020-03-10T05:52:01.000903Z"
    }
   },
   "outputs": [
    {
     "data": {
      "text/plain": [
       "{1, 2}"
      ]
     },
     "execution_count": 218,
     "metadata": {},
     "output_type": "execute_result"
    }
   ],
   "source": [
    "a = set()\n",
    "a.update([1, 1, 2])\n",
    "a"
   ]
  },
  {
   "cell_type": "code",
   "execution_count": 219,
   "metadata": {
    "ExecuteTime": {
     "end_time": "2020-03-10T05:52:32.477168Z",
     "start_time": "2020-03-10T05:52:32.469202Z"
    }
   },
   "outputs": [
    {
     "name": "stdout",
     "output_type": "stream",
     "text": [
      "{1: 100, 2: 200, 5: 100, 3: 100, 4: 100}\n"
     ]
    },
    {
     "data": {
      "text/plain": [
       "200"
      ]
     },
     "execution_count": 219,
     "metadata": {},
     "output_type": "execute_result"
    }
   ],
   "source": [
    "def arrayManipulation(n, queries):\n",
    "    \n",
    "    mydic = dict()\n",
    "    for q in queries:\n",
    "        for key in mydic.keys():\n",
    "            if (q[0] <= key) & ( key <= q[1]):\n",
    "                mydic[key] = mydic[key] + q[2]\n",
    "        for e in q[0:2]:\n",
    "            if e not in mydic.keys():\n",
    "                mydic[e] = q[2]\n",
    "    print(mydic)\n",
    "    return max([mydic[e] for e in mydic])\n",
    "\n",
    "queries = [[1, 2, 100],\n",
    "[2, 5 ,100],\n",
    "[3, 4, 100]]\n",
    "\n",
    "arrayManipulation(100, queries)"
   ]
  },
  {
   "cell_type": "code",
   "execution_count": 220,
   "metadata": {
    "ExecuteTime": {
     "end_time": "2020-03-10T05:53:35.800783Z",
     "start_time": "2020-03-10T05:53:35.796961Z"
    }
   },
   "outputs": [
    {
     "data": {
      "text/plain": [
       "['a', 'b', 'd']"
      ]
     },
     "execution_count": 220,
     "metadata": {},
     "output_type": "execute_result"
    }
   ],
   "source": [
    "list('abd')"
   ]
  },
  {
   "cell_type": "code",
   "execution_count": 117,
   "metadata": {
    "ExecuteTime": {
     "end_time": "2020-03-08T23:37:58.383319Z",
     "start_time": "2020-03-08T23:37:58.378411Z"
    }
   },
   "outputs": [],
   "source": [
    "def isValid(s):\n",
    "    sdic = dict()\n",
    "    for c in s:\n",
    "        if c in sdic.keys():\n",
    "            sdic[c] += 1\n",
    "        else:\n",
    "            sdic[c] = 1\n",
    "    freq = [sdic[k] for k in sdic]\n",
    "    min_freq = min(freq)\n",
    "    diff = [ (f - min_freq) for f in freq]\n",
    "    print(sdic)\n",
    "    if sum(diff)>1:\n",
    "        return 'NO'\n",
    "    else:\n",
    "        return 'YES'"
   ]
  },
  {
   "cell_type": "code",
   "execution_count": 119,
   "metadata": {
    "ExecuteTime": {
     "end_time": "2020-03-08T23:57:52.397536Z",
     "start_time": "2020-03-08T23:57:52.393824Z"
    }
   },
   "outputs": [
    {
     "data": {
      "text/plain": [
       "3"
      ]
     },
     "execution_count": 119,
     "metadata": {},
     "output_type": "execute_result"
    }
   ],
   "source": [
    "len('abc')"
   ]
  },
  {
   "cell_type": "code",
   "execution_count": 221,
   "metadata": {
    "ExecuteTime": {
     "end_time": "2020-03-10T05:54:18.237879Z",
     "start_time": "2020-03-10T05:54:18.233699Z"
    }
   },
   "outputs": [
    {
     "data": {
      "text/plain": [
       "[1, 3]"
      ]
     },
     "execution_count": 221,
     "metadata": {},
     "output_type": "execute_result"
    }
   ],
   "source": [
    "a = [1 , 2, 3]\n",
    "del a[1]\n",
    "a"
   ]
  },
  {
   "cell_type": "code",
   "execution_count": 124,
   "metadata": {
    "ExecuteTime": {
     "end_time": "2020-03-09T00:34:12.926791Z",
     "start_time": "2020-03-09T00:34:12.922668Z"
    }
   },
   "outputs": [
    {
     "data": {
      "text/plain": [
       "2"
      ]
     },
     "execution_count": 124,
     "metadata": {},
     "output_type": "execute_result"
    }
   ],
   "source": [
    "len(set(['a', 's']))"
   ]
  },
  {
   "cell_type": "code",
   "execution_count": 222,
   "metadata": {
    "ExecuteTime": {
     "end_time": "2020-03-10T05:54:32.235177Z",
     "start_time": "2020-03-10T05:54:32.231317Z"
    }
   },
   "outputs": [
    {
     "data": {
      "text/plain": [
       "4"
      ]
     },
     "execution_count": 222,
     "metadata": {},
     "output_type": "execute_result"
    }
   ],
   "source": [
    "s = \"abcda\"\n",
    "s.index('a', 1)"
   ]
  },
  {
   "cell_type": "code",
   "execution_count": 131,
   "metadata": {
    "ExecuteTime": {
     "end_time": "2020-03-09T03:36:20.515905Z",
     "start_time": "2020-03-09T03:36:20.512842Z"
    }
   },
   "outputs": [],
   "source": [
    "s1='ELGGYJWKTDHLXJRBJLRYEJWVSUFZKYHOIKBGTVUTTOCGMLEXWDSXEBKRZTQUVCJNGKKRMUUBACVOEQKBFFYBUQEMYNENKYYGUZSP'\n",
    "s2='FRVIFOVJYQLVZMFBNRUTIYFBMFFFRZVBYINXLDDSVMPWSQGJZYTKMZIPEGMVOUQBKYEWEYVOLSHCMHPAZYTENRNONTJWDANAMFRX'\n"
   ]
  },
  {
   "cell_type": "code",
   "execution_count": 223,
   "metadata": {
    "ExecuteTime": {
     "end_time": "2020-03-10T05:54:55.016288Z",
     "start_time": "2020-03-10T05:54:55.008448Z"
    }
   },
   "outputs": [
    {
     "data": {
      "text/plain": [
       "13"
      ]
     },
     "execution_count": 223,
     "metadata": {},
     "output_type": "execute_result"
    }
   ],
   "source": [
    "def commonChild(s1, s2):\n",
    "    childs = []\n",
    "    for k in range(len(s1)):\n",
    "        j = 0\n",
    "        child = ''\n",
    "        for i in range(k, len(s1)):\n",
    "            if s1[i] in s2[j:]:\n",
    "                j = s2.index(s1[i], j)\n",
    "                child += s1[i]\n",
    "#         print(child)\n",
    "        childs.append(len(child))\n",
    "    return max(childs)\n",
    "commonChild(s1, s2)"
   ]
  },
  {
   "cell_type": "markdown",
   "metadata": {},
   "source": [
    "## Merge Sort"
   ]
  },
  {
   "cell_type": "code",
   "execution_count": 264,
   "metadata": {
    "ExecuteTime": {
     "end_time": "2020-03-12T05:05:30.230517Z",
     "start_time": "2020-03-12T05:05:30.219960Z"
    }
   },
   "outputs": [
    {
     "data": {
      "text/plain": [
       "[1, 5, 1, 2, 3, 10, 4]"
      ]
     },
     "execution_count": 264,
     "metadata": {},
     "output_type": "execute_result"
    }
   ],
   "source": [
    "# Python program for implementation of MergeSort \n",
    "  \n",
    "# Merges two subarrays of arr[]. \n",
    "# First subarray is arr[l..m] \n",
    "# Second subarray is arr[m+1..r] \n",
    "def merge(arr, l, m, r):\n",
    "    # merge two sorted array l -> m-1, m -> r\n",
    "    left, right = arr[l:m], arr[m:r+1]\n",
    "    i, j, k = 0, 0, l\n",
    "    \n",
    "    while i < len(left) and j < len(right):\n",
    "        if left[i] <= right[j]:\n",
    "            arr[k] = left[i]\n",
    "            i += 1\n",
    "        else:\n",
    "            arr[k] = right[j]\n",
    "            j += 1\n",
    "        k += 1\n",
    "    \n",
    "    # copy the remaining elements in left and right to arr\n",
    "    if i < len(left): arr[k:r+1] = left[i:]\n",
    "    if j < len(right): arr[k:r+1] = right[j:]\n",
    "\n",
    "# merge sort arr from element l to r\n",
    "def mergeSort(arr, l, r):\n",
    "    if l < r:\n",
    "        m = int((l+r)/2)\n",
    "        mergeSort(arr, l, m)\n",
    "        mergeSort(arr, m+1, r)\n",
    "        merge(arr, l, m, r)\n",
    "        \n",
    "arr = [1, 10, 4, 5, 1, 2, 3]\n",
    "mergeSort(arr, 0, len(arr)-1)\n",
    "arr"
   ]
  },
  {
   "cell_type": "markdown",
   "metadata": {},
   "source": [
    "## Quick Sort"
   ]
  },
  {
   "cell_type": "code",
   "execution_count": 270,
   "metadata": {
    "ExecuteTime": {
     "end_time": "2020-03-12T05:43:17.055100Z",
     "start_time": "2020-03-12T05:43:17.045937Z"
    }
   },
   "outputs": [
    {
     "data": {
      "text/plain": [
       "[1, 1, 2, 3, 4, 5, 10]"
      ]
     },
     "execution_count": 270,
     "metadata": {},
     "output_type": "execute_result"
    }
   ],
   "source": [
    "## quickSort\n",
    "\n",
    "def iterate(arr, l, r):\n",
    "    # use arr[l] as a pivot    \n",
    "    if l < r:\n",
    "        m = partition(arr, l, r)     \n",
    "        iterate(arr, l, m-1)\n",
    "        iterate(arr, m+1, r)\n",
    "        \n",
    "def partition(arr, l, r):\n",
    "    # use arr[r] as pivot\n",
    "    i = l - 1\n",
    "    pivot = arr[r]\n",
    "    for j in range(l, r+1):   \n",
    "        if arr[j] <= pivot:\n",
    "            i += 1\n",
    "            arr[i], arr[j] = arr[j], arr[i]\n",
    "    return i\n",
    "\n",
    "def quickSort(arr):\n",
    "    iterate(arr, 0, len(arr) - 1)\n",
    "    \n",
    "arr = [1, 10, 4, 5, 1, 2, 3]\n",
    "quickSort(arr)\n",
    "arr"
   ]
  },
  {
   "cell_type": "code",
   "execution_count": 227,
   "metadata": {
    "ExecuteTime": {
     "end_time": "2020-03-10T05:57:05.464509Z",
     "start_time": "2020-03-10T05:57:05.460108Z"
    }
   },
   "outputs": [
    {
     "data": {
      "text/plain": [
       "[1, 1, 1, 2, 2, 2, 2]"
      ]
     },
     "execution_count": 227,
     "metadata": {},
     "output_type": "execute_result"
    }
   ],
   "source": [
    "a = [1] *3 + [2]*4\n",
    "a"
   ]
  },
  {
   "cell_type": "code",
   "execution_count": 228,
   "metadata": {
    "ExecuteTime": {
     "end_time": "2020-03-10T05:57:14.701528Z",
     "start_time": "2020-03-10T05:57:14.697297Z"
    }
   },
   "outputs": [
    {
     "data": {
      "text/plain": [
       "[2, 2, 2]"
      ]
     },
     "execution_count": 228,
     "metadata": {},
     "output_type": "execute_result"
    }
   ],
   "source": [
    "b = a[3:6]\n",
    "b"
   ]
  },
  {
   "cell_type": "code",
   "execution_count": 229,
   "metadata": {
    "ExecuteTime": {
     "end_time": "2020-03-10T05:57:19.525005Z",
     "start_time": "2020-03-10T05:57:19.521085Z"
    }
   },
   "outputs": [
    {
     "name": "stdout",
     "output_type": "stream",
     "text": [
      "4 3\n"
     ]
    }
   ],
   "source": [
    "x = 3\n",
    "y = 4\n",
    "x, y = y, x\n",
    "print(x,y)"
   ]
  },
  {
   "cell_type": "markdown",
   "metadata": {},
   "source": [
    "## Find median of two sorted array"
   ]
  },
  {
   "cell_type": "code",
   "execution_count": 253,
   "metadata": {
    "ExecuteTime": {
     "end_time": "2020-03-12T04:00:08.598140Z",
     "start_time": "2020-03-12T04:00:08.583064Z"
    },
    "code_folding": []
   },
   "outputs": [
    {
     "name": "stdout",
     "output_type": "stream",
     "text": [
      "i is  2 j is  3\n",
      "i is  3 j is  2\n",
      "i is  4 j is  1\n",
      "5 6\n"
     ]
    },
    {
     "data": {
      "text/plain": [
       "5.5"
      ]
     },
     "execution_count": 253,
     "metadata": {},
     "output_type": "execute_result"
    }
   ],
   "source": [
    "def findMedian(A, B):\n",
    "    m, n = len(A), len(B)\n",
    "    # swap m and n, A and B if m > n\n",
    "    if m > n:\n",
    "        m, n, A, B = n, m, B, A\n",
    "    # seperate A at i, max of left part is A[i-1], min of right part is A[i]\n",
    "    # separate B at j, max of left part is B[j-1], min of right part is B[j]\n",
    "    # 0 <= i <= m, 0 <= j <= n\n",
    "    # let i + j = int((m + n + 1) / 2) which means if m+n is odd the median is at the left part, max(A[i-1], B[j-1])\n",
    "    # if m+n is even median = (max of left part + min of right part)/2\n",
    "    # start i at half m, if A[i-1] > B[j] i needs to decrease \n",
    "    # if B[j-1] > A[i], i needs to increase, otherwise i is perfect\n",
    "    \n",
    "    imin, imax, half = 0, m, (m + n + 1) // 2\n",
    "\n",
    "    while imin <= imax:\n",
    "        i = (imin + imax) // 2\n",
    "        j = half - i\n",
    "        \n",
    "        if (i > 0) and (A[i-1] > B[j]):\n",
    "            imax = i-1\n",
    "        elif (i < m) and (B[j-1] > A[i]): \n",
    "            imin = i+1\n",
    "        else:\n",
    "            # i is perfect\n",
    "            \n",
    "            # calculate max of left half\n",
    "            if i == 0: max_left = B[j-1]\n",
    "            elif j == 0: max_left = A[i-1]\n",
    "            else: max_left = max(A[i-1], B[j-1])\n",
    "            \n",
    "            if (m + n) % 2 == 1:\n",
    "                return max_left\n",
    "                \n",
    "            # calculate min of right half\n",
    "            if i == m: min_right = B[j]\n",
    "            elif j == n: min_right = A[i]\n",
    "            else: min_right = min(A[i], B[j])\n",
    "            \n",
    "            print(max_left, min_right)\n",
    "            return (max_left + min_right) / 2\n",
    "        \n",
    "A = [1, 2, 3, 4]\n",
    "B = [5, 6, 7, 8, 9 , 10]\n",
    "findMedian(A, B)  "
   ]
  },
  {
   "cell_type": "markdown",
   "metadata": {},
   "source": [
    "## Find minimum number of deletions from two strings to make anagram"
   ]
  },
  {
   "cell_type": "code",
   "execution_count": 180,
   "metadata": {
    "ExecuteTime": {
     "end_time": "2020-03-10T04:52:09.066704Z",
     "start_time": "2020-03-10T04:52:09.061135Z"
    },
    "code_folding": []
   },
   "outputs": [
    {
     "name": "stdout",
     "output_type": "stream",
     "text": [
      "4\n",
      "5\n",
      "2\n"
     ]
    }
   ],
   "source": [
    "def anagram_count(w1, w2):\n",
    "    def count(c, s):\n",
    "        return sum([1 if c==char else 0 for char in s])     \n",
    "    \n",
    "    total = 0\n",
    "    \n",
    "    for c in 'abcdefghijklmnopqrstuvwxyz':\n",
    "        total += abs(count(c, w1) - count(c, w2)) \n",
    "    print(total)\n",
    "\n",
    "anagram_count('cde', 'abc')\n",
    "anagram_count('cdec', 'abc')\n",
    "anagram_count('a', 'abc')"
   ]
  },
  {
   "cell_type": "code",
   "execution_count": 181,
   "metadata": {
    "ExecuteTime": {
     "end_time": "2020-03-10T04:54:46.877975Z",
     "start_time": "2020-03-10T04:54:46.874108Z"
    }
   },
   "outputs": [
    {
     "data": {
      "text/plain": [
       "2"
      ]
     },
     "execution_count": 181,
     "metadata": {},
     "output_type": "execute_result"
    }
   ],
   "source": [
    "'abcdec'.count('c')"
   ]
  },
  {
   "cell_type": "markdown",
   "metadata": {},
   "source": [
    "## find median of a list"
   ]
  },
  {
   "cell_type": "code",
   "execution_count": 190,
   "metadata": {
    "ExecuteTime": {
     "end_time": "2020-03-10T05:31:47.632247Z",
     "start_time": "2020-03-10T05:31:47.622926Z"
    }
   },
   "outputs": [
    {
     "name": "stdout",
     "output_type": "stream",
     "text": [
      "2.5\n",
      "3\n"
     ]
    }
   ],
   "source": [
    "def quickselect(arr, k, pivot_func = lambda x: x[0]):\n",
    "    pivot = pivot_func(arr)\n",
    "    lows = [e for e in arr if e < pivot]\n",
    "    pivots = [e for e in arr if e == pivot]\n",
    "    highs = [e for e in arr if e > pivot]\n",
    "#     print(lows)\n",
    "    \n",
    "    if k <= len(lows):\n",
    "        return quickselect(lows, k, pivot_func)\n",
    "    elif k <= len(lows) + len(pivots):\n",
    "        return pivot\n",
    "    else:\n",
    "        return quickselect(highs, k - len(lows) - len(pivots), pivot_func)\n",
    "        \n",
    "def pivot_func(arr):\n",
    "    return arr[0]\n",
    "\n",
    "def findmedian(arr):\n",
    "    if len(arr) % 2 == 1:\n",
    "        print(quickselect(arr, int(len(arr)/2) + 1, pivot_func))\n",
    "    else:\n",
    "        median = (quickselect(arr, len(arr)/2) + quickselect(arr, len(arr)/2 + 1))/2\n",
    "        print(median)\n",
    "\n",
    "arr = [1, 5, 3, 2, 4]\n",
    "findmedian([1, 2, 3, 4])\n",
    "findmedian(arr)\n",
    "        "
   ]
  },
  {
   "cell_type": "code",
   "execution_count": null,
   "metadata": {},
   "outputs": [],
   "source": [
    "def quick_select(lst, k):\n",
    "            if k==0: return min(lst)\n",
    "            if k==len(lst): return max(lst)\n",
    "            if len(lst)<=10:\n",
    "                return sorted(lst)[k-1]\n",
    "\n",
    "            # select pivot (median of median)\n",
    "            medians = [sorted(lst[i*5:i*5+5])[3] for i in range(len(lst)//5)]\n",
    "            pivot = quick_select(medians, len(medians)//2)\n",
    "\n",
    "            # separate lst by values smaller or larger than pivot\n",
    "            smaller = [i for i in lst if i<=pivot]\n",
    "            larger = [i for i in lst if i>pivot]\n",
    "\n",
    "            # recursion\n",
    "            if len(smaller)>=k:\n",
    "                return quick_select(smaller, k)\n",
    "            else:\n",
    "                return quick_select(larger, k-len(smaller))"
   ]
  },
  {
   "cell_type": "code",
   "execution_count": 245,
   "metadata": {
    "ExecuteTime": {
     "end_time": "2020-03-11T23:31:41.706277Z",
     "start_time": "2020-03-11T23:31:41.701006Z"
    }
   },
   "outputs": [
    {
     "data": {
      "text/plain": [
       "['b', 'c', '1', '2', '3', 'a']"
      ]
     },
     "execution_count": 245,
     "metadata": {},
     "output_type": "execute_result"
    }
   ],
   "source": [
    "ext = list('abc')\n",
    "ext.extend('123')\n",
    "ext.insert(3, 'insert')\n",
    "ext.append('a')\n",
    "ext.remove('a')\n",
    "ext.pop(2)\n",
    "ext"
   ]
  },
  {
   "cell_type": "code",
   "execution_count": 242,
   "metadata": {
    "ExecuteTime": {
     "end_time": "2020-03-11T23:26:51.671771Z",
     "start_time": "2020-03-11T23:26:51.666830Z"
    }
   },
   "outputs": [
    {
     "name": "stdout",
     "output_type": "stream",
     "text": [
      "[['1', 'b'], ['2', 'a']]\n"
     ]
    },
    {
     "data": {
      "text/plain": [
       "[['1', 'b'], ['2', 'a']]"
      ]
     },
     "execution_count": 242,
     "metadata": {},
     "output_type": "execute_result"
    }
   ],
   "source": [
    "test = [list('1b'), list('2a')]\n",
    "print(test)\n",
    "test.sort(key = lambda x: x[0])\n",
    "test"
   ]
  },
  {
   "cell_type": "code",
   "execution_count": 1,
   "metadata": {
    "ExecuteTime": {
     "end_time": "2020-03-13T00:09:32.716989Z",
     "start_time": "2020-03-13T00:09:32.712718Z"
    }
   },
   "outputs": [
    {
     "ename": "SyntaxError",
     "evalue": "invalid syntax (<ipython-input-1-661c29a73463>, line 1)",
     "output_type": "error",
     "traceback": [
      "\u001b[0;36m  File \u001b[0;32m\"<ipython-input-1-661c29a73463>\"\u001b[0;36m, line \u001b[0;32m1\u001b[0m\n\u001b[0;31m    numbers_to_strings(argument){\u001b[0m\n\u001b[0m                                ^\u001b[0m\n\u001b[0;31mSyntaxError\u001b[0m\u001b[0;31m:\u001b[0m invalid syntax\n"
     ]
    }
   ],
   "source": [
    "numbers_to_strings(argument){ \n",
    "    switch(argument) { \n",
    "        case 0: \n",
    "            return \"zero\"; \n",
    "        case 1: \n",
    "            return \"one\"; \n",
    "        case 2: \n",
    "            return \"two\"; \n",
    "        default: \n",
    "            return \"nothing\"; \n",
    "    }; \n",
    "}; "
   ]
  },
  {
   "cell_type": "code",
   "execution_count": 276,
   "metadata": {
    "ExecuteTime": {
     "end_time": "2020-03-13T21:11:30.038876Z",
     "start_time": "2020-03-13T21:11:30.030839Z"
    }
   },
   "outputs": [
    {
     "name": "stdout",
     "output_type": "stream",
     "text": [
      "5\n"
     ]
    }
   ],
   "source": [
    "def minX(arr):\n",
    "    acc = 0\n",
    "    min_acc = arr[0]\n",
    "    for a in arr:\n",
    "        acc += a\n",
    "        min_acc = min(acc, min_acc)\n",
    "        \n",
    "    return 1-min_acc\n",
    "        \n",
    "print(minX([-4, 3, 4, 2]))       "
   ]
  },
  {
   "cell_type": "code",
   "execution_count": 284,
   "metadata": {
    "ExecuteTime": {
     "end_time": "2020-03-14T16:03:22.681536Z",
     "start_time": "2020-03-14T16:03:22.678247Z"
    }
   },
   "outputs": [],
   "source": [
    "a = [1, 2, 3]\n",
    "a[1:].reverse()\n"
   ]
  },
  {
   "cell_type": "code",
   "execution_count": 277,
   "metadata": {
    "ExecuteTime": {
     "end_time": "2020-03-13T21:30:48.766491Z",
     "start_time": "2020-03-13T21:30:48.762472Z"
    }
   },
   "outputs": [
    {
     "data": {
      "text/plain": [
       "[[1, 2, 3], [1, 2, 3], [1, 2, 3]]"
      ]
     },
     "execution_count": 277,
     "metadata": {},
     "output_type": "execute_result"
    }
   ],
   "source": [
    "[[1, 2, 3]]*3"
   ]
  },
  {
   "cell_type": "code",
   "execution_count": 278,
   "metadata": {
    "ExecuteTime": {
     "end_time": "2020-03-14T05:13:47.502468Z",
     "start_time": "2020-03-14T05:13:47.498638Z"
    }
   },
   "outputs": [
    {
     "data": {
      "text/plain": [
       "1"
      ]
     },
     "execution_count": 278,
     "metadata": {},
     "output_type": "execute_result"
    }
   ],
   "source": [
    "3//2"
   ]
  },
  {
   "cell_type": "code",
   "execution_count": 299,
   "metadata": {
    "ExecuteTime": {
     "end_time": "2020-03-15T00:29:29.353158Z",
     "start_time": "2020-03-15T00:29:29.348714Z"
    }
   },
   "outputs": [
    {
     "data": {
      "text/plain": [
       "[0, 0, 0, 1, 2, 1, 1]"
      ]
     },
     "execution_count": 299,
     "metadata": {},
     "output_type": "execute_result"
    }
   ],
   "source": [
    "a[1:3] = [0, 0]\n",
    "a = a + [ 1]*2\n",
    "a"
   ]
  },
  {
   "cell_type": "code",
   "execution_count": 64,
   "metadata": {
    "ExecuteTime": {
     "end_time": "2020-03-25T22:52:51.781208Z",
     "start_time": "2020-03-25T22:52:51.775269Z"
    }
   },
   "outputs": [
    {
     "data": {
      "text/plain": [
       "2"
      ]
     },
     "execution_count": 64,
     "metadata": {},
     "output_type": "execute_result"
    }
   ],
   "source": [
    "import random\n",
    "random.randint(1, 10)"
   ]
  },
  {
   "cell_type": "code",
   "execution_count": 295,
   "metadata": {
    "ExecuteTime": {
     "end_time": "2020-03-15T00:23:10.736647Z",
     "start_time": "2020-03-15T00:23:10.732501Z"
    }
   },
   "outputs": [
    {
     "data": {
      "text/plain": [
       "[]"
      ]
     },
     "execution_count": 295,
     "metadata": {},
     "output_type": "execute_result"
    }
   ],
   "source": [
    "a.pop(0)\n",
    "a"
   ]
  },
  {
   "cell_type": "code",
   "execution_count": 296,
   "metadata": {
    "ExecuteTime": {
     "end_time": "2020-03-15T00:28:56.531961Z",
     "start_time": "2020-03-15T00:28:56.528627Z"
    }
   },
   "outputs": [
    {
     "data": {
      "text/plain": [
       "[]"
      ]
     },
     "execution_count": 296,
     "metadata": {},
     "output_type": "execute_result"
    }
   ],
   "source": [
    "a"
   ]
  },
  {
   "cell_type": "code",
   "execution_count": 312,
   "metadata": {
    "ExecuteTime": {
     "end_time": "2020-03-15T00:58:05.584085Z",
     "start_time": "2020-03-15T00:58:05.577772Z"
    }
   },
   "outputs": [
    {
     "data": {
      "text/plain": [
       "[1, 0, 0]"
      ]
     },
     "execution_count": 312,
     "metadata": {},
     "output_type": "execute_result"
    }
   ],
   "source": [
    "def moveZeroes(nums):\n",
    "    \"\"\"\n",
    "    Do not return anything, modify nums in-place instead.\n",
    "    \"\"\"\n",
    "    # scan through the array and remove 0 if an element is zero\n",
    "    n = len(nums)\n",
    "    for a in nums:\n",
    "        if a == 0:\n",
    "            nums.remove(0)\n",
    "    m = len(nums)\n",
    "    for _ in range (n-m):\n",
    "        nums.append(0)\n",
    "#     nums = nums + [0] * (n - len(nums)) # for some reason it doesn't work\n",
    "    \n",
    "nums = [0, 1, 0]\n",
    "moveZeroes(nums)\n",
    "nums"
   ]
  },
  {
   "cell_type": "code",
   "execution_count": 316,
   "metadata": {
    "ExecuteTime": {
     "end_time": "2020-03-15T05:04:57.865902Z",
     "start_time": "2020-03-15T05:04:57.862015Z"
    }
   },
   "outputs": [
    {
     "data": {
      "text/plain": [
       "[3, 4]"
      ]
     },
     "execution_count": 316,
     "metadata": {},
     "output_type": "execute_result"
    }
   ],
   "source": [
    "b = [[1, 2], [3, 4]]\n",
    "b[0:2][1]"
   ]
  },
  {
   "cell_type": "code",
   "execution_count": 317,
   "metadata": {
    "ExecuteTime": {
     "end_time": "2020-03-15T05:11:31.997797Z",
     "start_time": "2020-03-15T05:11:31.993523Z"
    }
   },
   "outputs": [
    {
     "data": {
      "text/plain": [
       "[0, 1, 2, 1, 2, 3, 2, 3, 4]"
      ]
     },
     "execution_count": 317,
     "metadata": {},
     "output_type": "execute_result"
    }
   ],
   "source": [
    "[i+j for i in range(3) for j in range(3)]"
   ]
  },
  {
   "cell_type": "code",
   "execution_count": 320,
   "metadata": {
    "ExecuteTime": {
     "end_time": "2020-03-15T17:34:55.483787Z",
     "start_time": "2020-03-15T17:34:54.394700Z"
    }
   },
   "outputs": [],
   "source": [
    "\n",
    "test1 = [i*i/2 for i in range(10000000)]\n",
    "  "
   ]
  },
  {
   "cell_type": "code",
   "execution_count": 322,
   "metadata": {
    "ExecuteTime": {
     "end_time": "2020-03-15T17:36:09.170036Z",
     "start_time": "2020-03-15T17:36:07.722873Z"
    }
   },
   "outputs": [],
   "source": [
    "test2 = list(map(lambda x: x*x/2, range(10000000)))"
   ]
  },
  {
   "cell_type": "code",
   "execution_count": 335,
   "metadata": {
    "ExecuteTime": {
     "end_time": "2020-03-15T23:09:14.327689Z",
     "start_time": "2020-03-15T23:09:14.323144Z"
    }
   },
   "outputs": [
    {
     "data": {
      "text/plain": [
       "['3', '2', '1']"
      ]
     },
     "execution_count": 335,
     "metadata": {},
     "output_type": "execute_result"
    }
   ],
   "source": [
    "s = list(str(-12300))\n",
    "s.reverse()\n",
    "list(filter(lambda x: x != '-' and x != '0', s))s"
   ]
  },
  {
   "cell_type": "code",
   "execution_count": 338,
   "metadata": {
    "ExecuteTime": {
     "end_time": "2020-03-15T23:16:46.684514Z",
     "start_time": "2020-03-15T23:16:46.680786Z"
    }
   },
   "outputs": [
    {
     "data": {
      "text/plain": [
       "2469135799998"
      ]
     },
     "execution_count": 338,
     "metadata": {},
     "output_type": "execute_result"
    }
   ],
   "source": [
    "int('1234567899999')*2"
   ]
  },
  {
   "cell_type": "code",
   "execution_count": 348,
   "metadata": {
    "ExecuteTime": {
     "end_time": "2020-03-16T00:55:32.933973Z",
     "start_time": "2020-03-16T00:55:32.930146Z"
    }
   },
   "outputs": [
    {
     "data": {
      "text/plain": [
       "7"
      ]
     },
     "execution_count": 348,
     "metadata": {},
     "output_type": "execute_result"
    }
   ],
   "source": [
    "-13 % 10"
   ]
  },
  {
   "cell_type": "code",
   "execution_count": 378,
   "metadata": {
    "ExecuteTime": {
     "end_time": "2020-03-16T03:52:03.662713Z",
     "start_time": "2020-03-16T03:52:03.659148Z"
    }
   },
   "outputs": [
    {
     "data": {
      "text/plain": [
       "-1"
      ]
     },
     "execution_count": 378,
     "metadata": {},
     "output_type": "execute_result"
    }
   ],
   "source": [
    "int(-14/10)"
   ]
  },
  {
   "cell_type": "code",
   "execution_count": 354,
   "metadata": {
    "ExecuteTime": {
     "end_time": "2020-03-16T00:56:29.149948Z",
     "start_time": "2020-03-16T00:56:29.146081Z"
    }
   },
   "outputs": [
    {
     "data": {
      "text/plain": [
       "-2"
      ]
     },
     "execution_count": 354,
     "metadata": {},
     "output_type": "execute_result"
    }
   ],
   "source": [
    "-11//10"
   ]
  },
  {
   "cell_type": "code",
   "execution_count": 366,
   "metadata": {
    "ExecuteTime": {
     "end_time": "2020-03-16T03:09:51.083512Z",
     "start_time": "2020-03-16T03:09:51.079284Z"
    }
   },
   "outputs": [
    {
     "data": {
      "text/plain": [
       "[1]"
      ]
     },
     "execution_count": 366,
     "metadata": {},
     "output_type": "execute_result"
    }
   ],
   "source": [
    "dic = {1: 'a', 2: 'b'}\n",
    "list(filter(lambda x: dic[x] == 'a', dic))"
   ]
  },
  {
   "cell_type": "code",
   "execution_count": 371,
   "metadata": {
    "ExecuteTime": {
     "end_time": "2020-03-16T03:38:20.913134Z",
     "start_time": "2020-03-16T03:38:20.909438Z"
    }
   },
   "outputs": [
    {
     "data": {
      "text/plain": [
       "'a'"
      ]
     },
     "execution_count": 371,
     "metadata": {},
     "output_type": "execute_result"
    }
   ],
   "source": [
    "'A'.lower()"
   ]
  },
  {
   "cell_type": "code",
   "execution_count": 380,
   "metadata": {
    "ExecuteTime": {
     "end_time": "2020-03-16T03:52:47.807307Z",
     "start_time": "2020-03-16T03:52:47.803458Z"
    }
   },
   "outputs": [
    {
     "name": "stdout",
     "output_type": "stream",
     "text": [
      "{'b', 'c', 'e', 'd', 'a'} {'b', 'c', 'e', 'd', 'a'}\n"
     ]
    }
   ],
   "source": [
    "s = 'abcd'\n",
    "s = set(s)\n",
    "y = s\n",
    "y.add('e')\n",
    "print(s, y)"
   ]
  },
  {
   "cell_type": "code",
   "execution_count": 377,
   "metadata": {
    "ExecuteTime": {
     "end_time": "2020-03-16T03:51:08.134622Z",
     "start_time": "2020-03-16T03:51:08.128912Z"
    }
   },
   "outputs": [
    {
     "name": "stdout",
     "output_type": "stream",
     "text": [
      "20 10\n"
     ]
    }
   ],
   "source": [
    "x = 10\n",
    "y = x\n",
    "x = 20\n",
    "print(x, y)"
   ]
  },
  {
   "cell_type": "code",
   "execution_count": 387,
   "metadata": {
    "ExecuteTime": {
     "end_time": "2020-03-17T00:36:59.647572Z",
     "start_time": "2020-03-17T00:36:59.644009Z"
    }
   },
   "outputs": [
    {
     "data": {
      "text/plain": [
       "98"
      ]
     },
     "execution_count": 387,
     "metadata": {},
     "output_type": "execute_result"
    }
   ],
   "source": [
    "ord('b')"
   ]
  },
  {
   "cell_type": "code",
   "execution_count": 393,
   "metadata": {
    "ExecuteTime": {
     "end_time": "2020-03-18T17:52:39.971044Z",
     "start_time": "2020-03-18T17:52:39.966840Z"
    }
   },
   "outputs": [
    {
     "data": {
      "text/plain": [
       "['hello', 'world']"
      ]
     },
     "execution_count": 393,
     "metadata": {},
     "output_type": "execute_result"
    }
   ],
   "source": [
    "'hello world'.split()"
   ]
  },
  {
   "cell_type": "code",
   "execution_count": 389,
   "metadata": {
    "ExecuteTime": {
     "end_time": "2020-03-18T03:55:44.450518Z",
     "start_time": "2020-03-18T03:55:44.418646Z"
    }
   },
   "outputs": [
    {
     "ename": "TypeError",
     "evalue": "'>' not supported between instances of 'NoneType' and 'int'",
     "output_type": "error",
     "traceback": [
      "\u001b[0;31m---------------------------------------------------------------------------\u001b[0m",
      "\u001b[0;31mTypeError\u001b[0m                                 Traceback (most recent call last)",
      "\u001b[0;32m<ipython-input-389-91cb36a4a047>\u001b[0m in \u001b[0;36m<module>\u001b[0;34m\u001b[0m\n\u001b[0;32m----> 1\u001b[0;31m \u001b[0mmax\u001b[0m\u001b[0;34m(\u001b[0m\u001b[0;36m1\u001b[0m\u001b[0;34m,\u001b[0m \u001b[0;32mNone\u001b[0m\u001b[0;34m)\u001b[0m\u001b[0;34m\u001b[0m\u001b[0;34m\u001b[0m\u001b[0m\n\u001b[0m",
      "\u001b[0;31mTypeError\u001b[0m: '>' not supported between instances of 'NoneType' and 'int'"
     ]
    }
   ],
   "source": [
    "max(1, None)"
   ]
  },
  {
   "cell_type": "code",
   "execution_count": 391,
   "metadata": {
    "ExecuteTime": {
     "end_time": "2020-03-18T03:57:09.351334Z",
     "start_time": "2020-03-18T03:57:09.347583Z"
    }
   },
   "outputs": [
    {
     "data": {
      "text/plain": [
       "1"
      ]
     },
     "execution_count": 391,
     "metadata": {},
     "output_type": "execute_result"
    }
   ],
   "source": [
    "min(1,float(\"inf\"))"
   ]
  },
  {
   "cell_type": "code",
   "execution_count": 395,
   "metadata": {
    "ExecuteTime": {
     "end_time": "2020-03-20T04:55:23.152191Z",
     "start_time": "2020-03-20T04:55:23.144293Z"
    }
   },
   "outputs": [
    {
     "data": {
      "text/plain": [
       "[3, 2, 1, 0]"
      ]
     },
     "execution_count": 395,
     "metadata": {},
     "output_type": "execute_result"
    }
   ],
   "source": [
    "[i for i in range(3,-1,-1)]"
   ]
  },
  {
   "cell_type": "code",
   "execution_count": 397,
   "metadata": {
    "ExecuteTime": {
     "end_time": "2020-03-20T05:19:29.999350Z",
     "start_time": "2020-03-20T05:19:29.991510Z"
    }
   },
   "outputs": [],
   "source": [
    "from queue import PriorityQueue\n",
    "\n",
    "class Solution(object):\n",
    "    def mergeKLists(self, lists):\n",
    "        \"\"\"\n",
    "        :type lists: List[ListNode]\n",
    "        :rtype: ListNode\n",
    "        \"\"\"\n",
    "        head = point = ListNode(0)\n",
    "        q = PriorityQueue()\n",
    "        for l in lists:\n",
    "            if l:\n",
    "                q.put((l.val, l))\n",
    "        while not q.empty():\n",
    "            val, node = q.get()\n",
    "            point.next = ListNode(val)\n",
    "            point = point.next\n",
    "            node = node.next\n",
    "            if node:\n",
    "                q.put((node.val, node))\n",
    "        return head.next"
   ]
  },
  {
   "cell_type": "code",
   "execution_count": 398,
   "metadata": {
    "ExecuteTime": {
     "end_time": "2020-03-20T05:52:08.747846Z",
     "start_time": "2020-03-20T05:52:08.744104Z"
    }
   },
   "outputs": [
    {
     "data": {
      "text/plain": [
       "[[1, 2]]"
      ]
     },
     "execution_count": 398,
     "metadata": {},
     "output_type": "execute_result"
    }
   ],
   "source": [
    "a = []\n",
    "a.append([1,2])\n",
    "a"
   ]
  },
  {
   "cell_type": "code",
   "execution_count": 399,
   "metadata": {
    "ExecuteTime": {
     "end_time": "2020-03-20T18:41:35.242679Z",
     "start_time": "2020-03-20T18:41:35.236265Z"
    }
   },
   "outputs": [
    {
     "data": {
      "text/plain": [
       "[]"
      ]
     },
     "execution_count": 399,
     "metadata": {},
     "output_type": "execute_result"
    }
   ],
   "source": [
    "[i for i in range(1,1)]"
   ]
  },
  {
   "cell_type": "code",
   "execution_count": 400,
   "metadata": {
    "ExecuteTime": {
     "end_time": "2020-03-20T22:24:28.708960Z",
     "start_time": "2020-03-20T22:24:28.700286Z"
    }
   },
   "outputs": [
    {
     "data": {
      "text/plain": [
       "2"
      ]
     },
     "execution_count": 400,
     "metadata": {},
     "output_type": "execute_result"
    }
   ],
   "source": [
    "max((1,2))"
   ]
  },
  {
   "cell_type": "code",
   "execution_count": 410,
   "metadata": {
    "ExecuteTime": {
     "end_time": "2020-03-20T23:20:22.801069Z",
     "start_time": "2020-03-20T23:20:22.796766Z"
    }
   },
   "outputs": [
    {
     "name": "stdout",
     "output_type": "stream",
     "text": [
      "2\n",
      "5\n"
     ]
    }
   ],
   "source": [
    "def test():\n",
    "    global aaa\n",
    "    aaa = 2\n",
    "    print(aaa)\n",
    "    def test2():\n",
    "        global aaa\n",
    "        aaa += 3\n",
    "        print(aaa)\n",
    "    test2()\n",
    "test()"
   ]
  },
  {
   "cell_type": "code",
   "execution_count": 418,
   "metadata": {
    "ExecuteTime": {
     "end_time": "2020-03-20T23:41:33.036061Z",
     "start_time": "2020-03-20T23:41:33.032451Z"
    }
   },
   "outputs": [
    {
     "data": {
      "text/plain": [
       "2"
      ]
     },
     "execution_count": 418,
     "metadata": {},
     "output_type": "execute_result"
    }
   ],
   "source": [
    "x , y = 3, 1\n",
    "x ^ y "
   ]
  },
  {
   "cell_type": "code",
   "execution_count": 420,
   "metadata": {
    "ExecuteTime": {
     "end_time": "2020-03-20T23:41:54.729625Z",
     "start_time": "2020-03-20T23:41:54.725963Z"
    }
   },
   "outputs": [
    {
     "data": {
      "text/plain": [
       "'0b111'"
      ]
     },
     "execution_count": 420,
     "metadata": {},
     "output_type": "execute_result"
    }
   ],
   "source": [
    "bin(7)"
   ]
  },
  {
   "cell_type": "code",
   "execution_count": 425,
   "metadata": {
    "ExecuteTime": {
     "end_time": "2020-03-20T23:43:48.850286Z",
     "start_time": "2020-03-20T23:43:48.846809Z"
    }
   },
   "outputs": [
    {
     "data": {
      "text/plain": [
       "4"
      ]
     },
     "execution_count": 425,
     "metadata": {},
     "output_type": "execute_result"
    }
   ],
   "source": [
    "x = 1\n",
    "x << 2"
   ]
  },
  {
   "cell_type": "code",
   "execution_count": 427,
   "metadata": {
    "ExecuteTime": {
     "end_time": "2020-03-20T23:47:37.137620Z",
     "start_time": "2020-03-20T23:47:37.133726Z"
    }
   },
   "outputs": [
    {
     "data": {
      "text/plain": [
       "208333.3333333333"
      ]
     },
     "execution_count": 427,
     "metadata": {},
     "output_type": "execute_result"
    }
   ],
   "source": [
    "1000000000/24/60/60 *18"
   ]
  },
  {
   "cell_type": "code",
   "execution_count": 429,
   "metadata": {
    "ExecuteTime": {
     "end_time": "2020-03-21T05:58:18.931950Z",
     "start_time": "2020-03-21T05:58:18.919904Z"
    }
   },
   "outputs": [],
   "source": [
    "from collections import defaultdict\n",
    "sums = defaultdict(int)"
   ]
  },
  {
   "cell_type": "code",
   "execution_count": 430,
   "metadata": {
    "ExecuteTime": {
     "end_time": "2020-03-21T05:58:23.756797Z",
     "start_time": "2020-03-21T05:58:23.753367Z"
    }
   },
   "outputs": [
    {
     "data": {
      "text/plain": [
       "defaultdict(int, {})"
      ]
     },
     "execution_count": 430,
     "metadata": {},
     "output_type": "execute_result"
    }
   ],
   "source": [
    "sum()"
   ]
  },
  {
   "cell_type": "code",
   "execution_count": 431,
   "metadata": {
    "ExecuteTime": {
     "end_time": "2020-03-21T15:16:46.162269Z",
     "start_time": "2020-03-21T15:16:46.157728Z"
    }
   },
   "outputs": [
    {
     "ename": "SyntaxError",
     "evalue": "invalid token (<ipython-input-431-502c3c4142dd>, line 1)",
     "output_type": "error",
     "traceback": [
      "\u001b[0;36m  File \u001b[0;32m\"<ipython-input-431-502c3c4142dd>\"\u001b[0;36m, line \u001b[0;32m1\u001b[0m\n\u001b[0;31m    datetime(2020, 03, 01)\u001b[0m\n\u001b[0m                    ^\u001b[0m\n\u001b[0;31mSyntaxError\u001b[0m\u001b[0;31m:\u001b[0m invalid token\n"
     ]
    }
   ],
   "source": [
    "datetime"
   ]
  },
  {
   "cell_type": "code",
   "execution_count": 432,
   "metadata": {
    "ExecuteTime": {
     "end_time": "2020-03-21T15:34:03.773284Z",
     "start_time": "2020-03-21T15:34:03.751368Z"
    }
   },
   "outputs": [
    {
     "ename": "AttributeError",
     "evalue": "'list' object has no attribute 'empty'",
     "output_type": "error",
     "traceback": [
      "\u001b[0;31m---------------------------------------------------------------------------\u001b[0m",
      "\u001b[0;31mAttributeError\u001b[0m                            Traceback (most recent call last)",
      "\u001b[0;32m<ipython-input-432-8d7bdb9cc2bc>\u001b[0m in \u001b[0;36m<module>\u001b[0;34m\u001b[0m\n\u001b[0;32m----> 1\u001b[0;31m \u001b[0;34m[\u001b[0m\u001b[0;34m]\u001b[0m\u001b[0;34m.\u001b[0m\u001b[0mempty\u001b[0m\u001b[0;34m(\u001b[0m\u001b[0;34m)\u001b[0m\u001b[0;34m\u001b[0m\u001b[0;34m\u001b[0m\u001b[0m\n\u001b[0m",
      "\u001b[0;31mAttributeError\u001b[0m: 'list' object has no attribute 'empty'"
     ]
    }
   ],
   "source": [
    "[].empty()"
   ]
  },
  {
   "cell_type": "code",
   "execution_count": 434,
   "metadata": {
    "ExecuteTime": {
     "end_time": "2020-03-21T15:50:14.357124Z",
     "start_time": "2020-03-21T15:50:14.350336Z"
    }
   },
   "outputs": [
    {
     "data": {
      "text/plain": [
       "datetime.datetime(2012, 2, 9, 0, 0)"
      ]
     },
     "execution_count": 434,
     "metadata": {},
     "output_type": "execute_result"
    }
   ],
   "source": [
    "import datetime\n",
    "\n",
    "datetime.datetime.strptime('2012-02-09', '%Y-%m-%d')"
   ]
  },
  {
   "cell_type": "code",
   "execution_count": 437,
   "metadata": {
    "ExecuteTime": {
     "end_time": "2020-03-21T16:55:48.714686Z",
     "start_time": "2020-03-21T16:55:48.710195Z"
    }
   },
   "outputs": [
    {
     "data": {
      "text/plain": [
       "2"
      ]
     },
     "execution_count": 437,
     "metadata": {},
     "output_type": "execute_result"
    }
   ],
   "source": [
    "def number_of_ones(n):\n",
    "    cnt = 0\n",
    "    while n:\n",
    "        cnt += n % 2\n",
    "        n = n // 2\n",
    "    return cnt\n",
    "number_of_ones(5)"
   ]
  },
  {
   "cell_type": "code",
   "execution_count": null,
   "metadata": {
    "ExecuteTime": {
     "end_time": "2020-03-22T18:14:33.369471Z",
     "start_time": "2020-03-22T18:14:33.258561Z"
    }
   },
   "outputs": [],
   "source": []
  },
  {
   "cell_type": "code",
   "execution_count": 29,
   "metadata": {
    "ExecuteTime": {
     "end_time": "2020-03-22T21:16:16.074828Z",
     "start_time": "2020-03-22T21:16:16.067052Z"
    }
   },
   "outputs": [],
   "source": [
    "s = ''\n",
    "for i in range(10000):\n",
    "    s += str(i)"
   ]
  },
  {
   "cell_type": "code",
   "execution_count": 31,
   "metadata": {
    "ExecuteTime": {
     "end_time": "2020-03-22T21:16:38.073521Z",
     "start_time": "2020-03-22T21:16:38.028132Z"
    }
   },
   "outputs": [],
   "source": [
    "s = []\n",
    "for i in range(100000):\n",
    "    s.append(str(i))\n",
    "s = ''.join(s)"
   ]
  },
  {
   "cell_type": "code",
   "execution_count": 8,
   "metadata": {
    "ExecuteTime": {
     "end_time": "2020-03-22T21:12:27.885279Z",
     "start_time": "2020-03-22T21:12:27.881948Z"
    }
   },
   "outputs": [
    {
     "data": {
      "text/plain": [
       "'0b11111111111111111111111111111111'"
      ]
     },
     "execution_count": 8,
     "metadata": {},
     "output_type": "execute_result"
    }
   ],
   "source": [
    "bin(0xffffffff)"
   ]
  },
  {
   "cell_type": "code",
   "execution_count": 477,
   "metadata": {
    "ExecuteTime": {
     "end_time": "2020-03-22T06:19:34.260332Z",
     "start_time": "2020-03-22T06:19:34.256655Z"
    }
   },
   "outputs": [
    {
     "data": {
      "text/plain": [
       "'-0b100000000000000000000000000000000'"
      ]
     },
     "execution_count": 477,
     "metadata": {},
     "output_type": "execute_result"
    }
   ],
   "source": [
    "bin((-1 ^ 0xffffffff))"
   ]
  },
  {
   "cell_type": "code",
   "execution_count": 42,
   "metadata": {
    "ExecuteTime": {
     "end_time": "2020-03-22T23:35:11.075832Z",
     "start_time": "2020-03-22T23:35:10.253137Z"
    }
   },
   "outputs": [
    {
     "name": "stdout",
     "output_type": "stream",
     "text": [
      "116920\n"
     ]
    }
   ],
   "source": [
    "def rotatedDigits(N: int) -> int:\n",
    "    ans = 0\n",
    "    for i in range(N+1):\n",
    "        s = str(i)\n",
    "        ans += all(c not in '347' for c in s) and any(c in '2569' for c in s)\n",
    "    return ans\n",
    "print(rotatedDigits(1000000))"
   ]
  },
  {
   "cell_type": "code",
   "execution_count": 41,
   "metadata": {
    "ExecuteTime": {
     "end_time": "2020-03-22T23:35:06.696824Z",
     "start_time": "2020-03-22T23:35:06.689511Z"
    }
   },
   "outputs": [
    {
     "name": "stdout",
     "output_type": "stream",
     "text": [
      "116920\n"
     ]
    }
   ],
   "source": [
    "def rotatedDigits( N):\n",
    "    A = list(map(int, str(N)))\n",
    "\n",
    "    memo = {}\n",
    "    def dp(i, equality_flag, involution_flag):\n",
    "        if i == len(A): return +(involution_flag)\n",
    "        if (i, equality_flag, involution_flag) not in memo:\n",
    "            ans = 0\n",
    "            for d in range(A[i] + 1 if equality_flag else 10):\n",
    "                if d in {3, 4, 7}: continue\n",
    "                ans += dp(i+1, equality_flag and d == A[i],\n",
    "                          involution_flag or d in {2, 5, 6, 9})\n",
    "            memo[i, equality_flag, involution_flag] = ans\n",
    "        return memo[i, equality_flag, involution_flag]\n",
    "\n",
    "    return dp(0, True, False)\n",
    "\n",
    "print(rotatedDigits(1000000))"
   ]
  },
  {
   "cell_type": "code",
   "execution_count": 53,
   "metadata": {
    "ExecuteTime": {
     "end_time": "2020-03-25T01:01:58.035324Z",
     "start_time": "2020-03-25T01:01:58.031316Z"
    }
   },
   "outputs": [
    {
     "data": {
      "text/plain": [
       "False"
      ]
     },
     "execution_count": 53,
     "metadata": {},
     "output_type": "execute_result"
    }
   ],
   "source": [
    "[1, 2, 3, 4] < [0, 2, 3]"
   ]
  },
  {
   "cell_type": "code",
   "execution_count": 60,
   "metadata": {
    "ExecuteTime": {
     "end_time": "2020-03-25T05:25:49.495025Z",
     "start_time": "2020-03-25T05:25:49.491750Z"
    }
   },
   "outputs": [
    {
     "name": "stdout",
     "output_type": "stream",
     "text": [
      "hello\n"
     ]
    }
   ],
   "source": [
    "if any(i==1 and i==1 for i in range(3)): \n",
    "    print('hello')"
   ]
  },
  {
   "cell_type": "code",
   "execution_count": 65,
   "metadata": {
    "ExecuteTime": {
     "end_time": "2020-03-26T02:11:07.812042Z",
     "start_time": "2020-03-26T02:11:07.808441Z"
    }
   },
   "outputs": [
    {
     "data": {
      "text/plain": [
       "True"
      ]
     },
     "execution_count": 65,
     "metadata": {},
     "output_type": "execute_result"
    }
   ],
   "source": [
    "None == None"
   ]
  },
  {
   "cell_type": "code",
   "execution_count": 66,
   "metadata": {
    "ExecuteTime": {
     "end_time": "2020-03-27T00:30:47.739160Z",
     "start_time": "2020-03-27T00:30:47.735060Z"
    }
   },
   "outputs": [
    {
     "data": {
      "text/plain": [
       "['1', 'b', '3']"
      ]
     },
     "execution_count": 66,
     "metadata": {},
     "output_type": "execute_result"
    }
   ],
   "source": [
    "a = b = list('123')\n",
    "a[1] = 'b'\n",
    "b"
   ]
  },
  {
   "cell_type": "code",
   "execution_count": 69,
   "metadata": {
    "ExecuteTime": {
     "end_time": "2020-03-28T00:47:44.209367Z",
     "start_time": "2020-03-28T00:47:44.205097Z"
    }
   },
   "outputs": [
    {
     "data": {
      "text/plain": [
       "[]"
      ]
     },
     "execution_count": 69,
     "metadata": {},
     "output_type": "execute_result"
    }
   ],
   "source": [
    "[ i for i in range(-4)]"
   ]
  },
  {
   "cell_type": "code",
   "execution_count": 74,
   "metadata": {
    "ExecuteTime": {
     "end_time": "2020-03-28T05:11:36.187841Z",
     "start_time": "2020-03-28T05:11:36.183502Z"
    }
   },
   "outputs": [],
   "source": [
    "dic = {1: {'L', 'R'}, 2: {'U', 'D'}, 3:{'L', 'D'}, 4: {'R', 'D'}, 5: {'L', 'U'}, 6: {'R', 'U'} }\n",
    "\n",
    "def findExit(n, last):\n",
    "    if last in dic[n]:\n",
    "        return dic[n].difference(last)\n",
    "    return None\n",
    "    \n",
    "findExit(1, 'U')"
   ]
  },
  {
   "cell_type": "code",
   "execution_count": 84,
   "metadata": {
    "ExecuteTime": {
     "end_time": "2020-03-29T04:54:39.777300Z",
     "start_time": "2020-03-29T04:54:39.772727Z"
    }
   },
   "outputs": [
    {
     "data": {
      "text/plain": [
       "[(1, 2), 'a']"
      ]
     },
     "execution_count": 84,
     "metadata": {},
     "output_type": "execute_result"
    }
   ],
   "source": [
    "a = {'a'}\n",
    "a.add((1,2))\n",
    "list(a)"
   ]
  },
  {
   "cell_type": "code",
   "execution_count": 91,
   "metadata": {
    "ExecuteTime": {
     "end_time": "2020-03-29T17:38:09.833020Z",
     "start_time": "2020-03-29T17:38:09.829204Z"
    }
   },
   "outputs": [
    {
     "data": {
      "text/plain": [
       "defaultdict(list, {2: ['2']})"
      ]
     },
     "execution_count": 91,
     "metadata": {},
     "output_type": "execute_result"
    }
   ],
   "source": [
    "import collections\n",
    "ans = collections.defaultdict(list)\n",
    "ans[2].append('2')\n",
    "ans"
   ]
  },
  {
   "cell_type": "code",
   "execution_count": 94,
   "metadata": {
    "ExecuteTime": {
     "end_time": "2020-03-29T18:22:05.973854Z",
     "start_time": "2020-03-29T18:22:05.970037Z"
    }
   },
   "outputs": [
    {
     "data": {
      "text/plain": [
       "Counter({'1': 2, '2': 2, '3': 2})"
      ]
     },
     "execution_count": 94,
     "metadata": {},
     "output_type": "execute_result"
    }
   ],
   "source": [
    "collections.Counter('123123')"
   ]
  },
  {
   "cell_type": "code",
   "execution_count": 95,
   "metadata": {
    "ExecuteTime": {
     "end_time": "2020-04-01T23:46:35.901804Z",
     "start_time": "2020-04-01T23:46:35.890140Z"
    }
   },
   "outputs": [
    {
     "data": {
      "text/plain": [
       "3"
      ]
     },
     "execution_count": 95,
     "metadata": {},
     "output_type": "execute_result"
    }
   ],
   "source": [
    "max(1, 2, 3)"
   ]
  },
  {
   "cell_type": "code",
   "execution_count": 109,
   "metadata": {
    "ExecuteTime": {
     "end_time": "2020-04-04T06:21:56.658427Z",
     "start_time": "2020-04-04T06:21:56.652972Z"
    }
   },
   "outputs": [
    {
     "data": {
      "text/plain": [
       "[['a', 'd'],\n",
       " ['a', 'e'],\n",
       " ['a', 'f'],\n",
       " ['b', 'd'],\n",
       " ['b', 'e'],\n",
       " ['b', 'f'],\n",
       " ['c', 'd'],\n",
       " ['c', 'e'],\n",
       " ['c', 'f']]"
      ]
     },
     "execution_count": 109,
     "metadata": {},
     "output_type": "execute_result"
    }
   ],
   "source": [
    "a = [ [i, j] for i in 'abc' for j in 'def']\n",
    "a"
   ]
  },
  {
   "cell_type": "code",
   "execution_count": 110,
   "metadata": {
    "ExecuteTime": {
     "end_time": "2020-04-04T06:22:25.794207Z",
     "start_time": "2020-04-04T06:22:25.790307Z"
    }
   },
   "outputs": [
    {
     "data": {
      "text/plain": [
       "[1, 2]"
      ]
     },
     "execution_count": 110,
     "metadata": {},
     "output_type": "execute_result"
    }
   ],
   "source": [
    "a = [1, 1, 2]\n",
    "a.remove(1)\n",
    "a[-1]"
   ]
  },
  {
   "cell_type": "code",
   "execution_count": 3,
   "metadata": {
    "ExecuteTime": {
     "end_time": "2020-04-07T20:51:12.631320Z",
     "start_time": "2020-04-07T20:51:12.626020Z"
    }
   },
   "outputs": [
    {
     "data": {
      "text/plain": [
       "2"
      ]
     },
     "execution_count": 3,
     "metadata": {},
     "output_type": "execute_result"
    }
   ],
   "source": [
    "import numpy as np\n",
    "arr = np.array([1, 2, 3, 2, 4, 3])\n",
    "diff = arr[1:] - arr[:-1]\n",
    "index = diff < 0\n",
    "ind = np.array(range(len(index)))\n",
    "\n",
    "ind[index][0]"
   ]
  },
  {
   "cell_type": "code",
   "execution_count": 12,
   "metadata": {
    "ExecuteTime": {
     "end_time": "2020-04-08T16:42:49.713118Z",
     "start_time": "2020-04-08T16:42:49.706890Z"
    }
   },
   "outputs": [
    {
     "data": {
      "text/plain": [
       "'abc cde hello'"
      ]
     },
     "execution_count": 12,
     "metadata": {},
     "output_type": "execute_result"
    }
   ],
   "source": [
    "a = 'abc cde ' + ('hello' if True else 'hank')\n",
    "a.strip()"
   ]
  },
  {
   "cell_type": "code",
   "execution_count": 1,
   "metadata": {
    "ExecuteTime": {
     "end_time": "2020-04-13T05:35:29.953462Z",
     "start_time": "2020-04-13T05:35:29.948571Z"
    }
   },
   "outputs": [
    {
     "name": "stdout",
     "output_type": "stream",
     "text": [
      "Hello\n",
      "Hello\n"
     ]
    }
   ],
   "source": [
    "def is_called():\n",
    "    def is_returned():\n",
    "        print(\"Hello\")\n",
    "    return is_returned()\n",
    "\n",
    "new = is_called\n",
    "\n",
    "#Outputs \"Hello\"\n",
    "new()\n",
    "is_called()"
   ]
  },
  {
   "cell_type": "code",
   "execution_count": 2,
   "metadata": {
    "ExecuteTime": {
     "end_time": "2020-04-13T05:35:34.183254Z",
     "start_time": "2020-04-13T05:35:34.174120Z"
    }
   },
   "outputs": [
    {
     "data": {
      "text/plain": [
       "[[1, 2, 3]]"
      ]
     },
     "execution_count": 2,
     "metadata": {},
     "output_type": "execute_result"
    }
   ],
   "source": [
    "a = [[1,2]]\n",
    "a[0].append(3)\n",
    "a"
   ]
  },
  {
   "cell_type": "code",
   "execution_count": 15,
   "metadata": {
    "ExecuteTime": {
     "end_time": "2020-04-14T17:41:46.587472Z",
     "start_time": "2020-04-14T17:41:46.585125Z"
    }
   },
   "outputs": [],
   "source": [
    "import random"
   ]
  },
  {
   "cell_type": "code",
   "execution_count": 32,
   "metadata": {
    "ExecuteTime": {
     "end_time": "2020-04-15T04:00:51.387373Z",
     "start_time": "2020-04-15T04:00:51.382880Z"
    }
   },
   "outputs": [
    {
     "data": {
      "text/plain": [
       "[]"
      ]
     },
     "execution_count": 32,
     "metadata": {},
     "output_type": "execute_result"
    }
   ],
   "source": [
    "a = [ 1, 2, 3]\n",
    "a[4:]"
   ]
  },
  {
   "cell_type": "code",
   "execution_count": 38,
   "metadata": {
    "ExecuteTime": {
     "end_time": "2020-04-15T05:26:06.398937Z",
     "start_time": "2020-04-15T05:26:06.394920Z"
    }
   },
   "outputs": [
    {
     "data": {
      "text/plain": [
       "0"
      ]
     },
     "execution_count": 38,
     "metadata": {},
     "output_type": "execute_result"
    }
   ],
   "source": [
    "((1 ^ 4)>>4) & 1"
   ]
  },
  {
   "cell_type": "code",
   "execution_count": 45,
   "metadata": {
    "ExecuteTime": {
     "end_time": "2020-04-15T05:43:20.368601Z",
     "start_time": "2020-04-15T05:43:20.364514Z"
    }
   },
   "outputs": [
    {
     "data": {
      "text/plain": [
       "['c', 'b', 'a']"
      ]
     },
     "execution_count": 45,
     "metadata": {},
     "output_type": "execute_result"
    }
   ],
   "source": [
    "list(reversed('abc'))"
   ]
  },
  {
   "cell_type": "code",
   "execution_count": 6,
   "metadata": {
    "ExecuteTime": {
     "end_time": "2020-05-03T02:29:07.285814Z",
     "start_time": "2020-05-03T02:29:07.281236Z"
    }
   },
   "outputs": [
    {
     "data": {
      "text/plain": [
       "[1, 4, 2, [3]]"
      ]
     },
     "execution_count": 6,
     "metadata": {},
     "output_type": "execute_result"
    }
   ],
   "source": [
    "a = [1, 2]\n",
    "b = [3]\n",
    "a.append(b[:])\n",
    "a.insert(1, 4)\n",
    "a"
   ]
  },
  {
   "cell_type": "code",
   "execution_count": 9,
   "metadata": {
    "ExecuteTime": {
     "end_time": "2020-04-28T23:02:51.451273Z",
     "start_time": "2020-04-28T23:02:51.441671Z"
    }
   },
   "outputs": [
    {
     "data": {
      "text/plain": [
       "['123', '456']"
      ]
     },
     "execution_count": 9,
     "metadata": {},
     "output_type": "execute_result"
    }
   ],
   "source": [
    "a = \"\"\" \n",
    "123\n",
    "        456\n",
    "\"\"\".split('\\n')\n",
    "a = [e.strip() for e in a if e.strip()]\n",
    "a"
   ]
  },
  {
   "cell_type": "code",
   "execution_count": 4,
   "metadata": {
    "ExecuteTime": {
     "end_time": "2020-05-03T01:09:12.287137Z",
     "start_time": "2020-05-03T01:09:12.283461Z"
    }
   },
   "outputs": [
    {
     "data": {
      "text/plain": [
       "1"
      ]
     },
     "execution_count": 4,
     "metadata": {},
     "output_type": "execute_result"
    }
   ],
   "source": [
    "min([1,2])"
   ]
  },
  {
   "cell_type": "code",
   "execution_count": 12,
   "metadata": {
    "ExecuteTime": {
     "end_time": "2020-05-20T18:33:43.879934Z",
     "start_time": "2020-05-20T18:33:43.876294Z"
    }
   },
   "outputs": [
    {
     "data": {
      "text/plain": [
       "['6']"
      ]
     },
     "execution_count": 12,
     "metadata": {},
     "output_type": "execute_result"
    }
   ],
   "source": [
    "a = list('123456')\n",
    "a[:4:-1]"
   ]
  },
  {
   "cell_type": "code",
   "execution_count": 17,
   "metadata": {
    "ExecuteTime": {
     "end_time": "2020-05-21T16:01:52.604664Z",
     "start_time": "2020-05-21T16:01:52.600774Z"
    }
   },
   "outputs": [
    {
     "data": {
      "text/plain": [
       "['1', '2', '3', '4', '5', '6']"
      ]
     },
     "execution_count": 17,
     "metadata": {},
     "output_type": "execute_result"
    }
   ],
   "source": [
    "a.reverse()\n",
    "list(sorted(a))\n"
   ]
  },
  {
   "cell_type": "code",
   "execution_count": 9,
   "metadata": {
    "ExecuteTime": {
     "end_time": "2020-07-08T23:24:23.606439Z",
     "start_time": "2020-07-08T23:24:23.599860Z"
    }
   },
   "outputs": [
    {
     "data": {
      "text/plain": [
       "853973422267356706546355086954657449503488853576511496187960112866062207705362657788727290522840730383489530650364903517939607863927337574615164970131748001981661120610610483955857266574470948586085102675246625672256981924416257729654595468448187666011129"
      ]
     },
     "execution_count": 9,
     "metadata": {},
     "output_type": "execute_result"
    }
   ],
   "source": [
    "x = 31415926535897932384626433832795028841971693993751058209749445922718281828459045235360287471352662497757247093699959574966967627\n",
    "y = 27182818284590452353602874713526624977572470936999595749669676272718281828459045235360287471352662497757247093699959574966967627\n",
    "\n",
    "x*y"
   ]
  },
  {
   "cell_type": "code",
   "execution_count": 13,
   "metadata": {
    "ExecuteTime": {
     "end_time": "2020-07-08T23:27:59.117785Z",
     "start_time": "2020-07-08T23:27:59.111803Z"
    }
   },
   "outputs": [],
   "source": [
    "def multiplication(x, y):\n",
    "    x, y = str(x), str(y)\n",
    "    m, n = len(x), len(y)\n",
    "    if m >= 2 and n >= 2:\n",
    "        a, b, c, d = x[0:m//2], x[m//2:], y[0:n//2], y[n//2:]\n",
    "        ac = multiplication(a, c)\n",
    "        bd = multiplication(b, d)\n",
    "        bc_and_ad = multiplication(int(a) + int(b), int(c) + int(d)) - ac - bd\n",
    "#         bc = multiplication(b, c)\n",
    "#         ad = multiplication(a, d)\n",
    "        return 10**m * ac + 10**(m//2) * (bc_and_ad) + bd\n",
    "    else:\n",
    "        return int(x)*int(y)\n",
    "        "
   ]
  },
  {
   "cell_type": "code",
   "execution_count": 14,
   "metadata": {
    "ExecuteTime": {
     "end_time": "2020-07-08T23:28:02.174828Z",
     "start_time": "2020-07-08T23:28:02.164103Z"
    }
   },
   "outputs": [
    {
     "data": {
      "text/plain": [
       "853973331545385845521687649271782450578096450254637308947849428301762587830148981488240619569642283876627269645790046742287101427501524427578096998827322380823627031905413143233276220680208750768432083175285177547969104195507631861377485011274519474857129"
      ]
     },
     "execution_count": 14,
     "metadata": {},
     "output_type": "execute_result"
    }
   ],
   "source": [
    "multiplication(x, y)"
   ]
  },
  {
   "cell_type": "markdown",
   "metadata": {},
   "source": [
    "## Remove duplicates in a sorted array"
   ]
  },
  {
   "cell_type": "code",
   "execution_count": 2,
   "metadata": {},
   "outputs": [
    {
     "name": "stdout",
     "output_type": "stream",
     "text": [
      "[1, 2, 3]\n",
      "0\n",
      "[1]\n",
      "[1]\n",
      "[1, 2]\n"
     ]
    }
   ],
   "source": [
    "def removeDuplicates(nums):\n",
    "    if not nums:\n",
    "        return 0\n",
    "    unique_pos = 0\n",
    "    for i in range(1, len(nums)):\n",
    "        if nums[i] != nums[unique_pos]:\n",
    "            unique_pos += 1\n",
    "            nums[unique_pos] = nums[i]\n",
    "    return nums[:unique_pos + 1]\n",
    "\n",
    "nums = [1, 1, 2, 3, 3]\n",
    "\n",
    "print(removeDuplicates(nums))\n",
    "print(removeDuplicates([]))\n",
    "print(removeDuplicates([1]))\n",
    "print(removeDuplicates([1,1]))\n",
    "print(removeDuplicates([1,2]))"
   ]
  },
  {
   "cell_type": "markdown",
   "metadata": {},
   "source": [
    "## Reverse a list in place"
   ]
  },
  {
   "cell_type": "code",
   "execution_count": 4,
   "metadata": {},
   "outputs": [
    {
     "name": "stdout",
     "output_type": "stream",
     "text": [
      "fedcba\n"
     ]
    }
   ],
   "source": [
    "s = 'abcdef'\n",
    "print(''.join(reversed(s)))"
   ]
  },
  {
   "cell_type": "code",
   "execution_count": 8,
   "metadata": {},
   "outputs": [
    {
     "name": "stdout",
     "output_type": "stream",
     "text": [
      "['o', 'l', 'l', 'e', 'h']\n"
     ]
    }
   ],
   "source": [
    "def reverse_list_in_place(lst):\n",
    "    left_index = 0\n",
    "    right_index = len(lst) - 1\n",
    "\n",
    "    while left_index < right_index:\n",
    "        # Swap elements\n",
    "        lst[left_index], lst[right_index] = lst[right_index], lst[left_index]\n",
    "        \n",
    "        # Move towards center\n",
    "        left_index += 1\n",
    "        right_index -= 1\n",
    "\n",
    "# Example usage:\n",
    "chars = 'h e l l o'.split()\n",
    "reverse_list_in_place(chars)\n",
    "print(chars)  # Output should show the reversed list ['o', 'l', 'l', 'e', 'h']"
   ]
  },
  {
   "cell_type": "markdown",
   "metadata": {},
   "source": [
    "## Sum of two numbers"
   ]
  },
  {
   "cell_type": "code",
   "execution_count": 10,
   "metadata": {},
   "outputs": [
    {
     "name": "stdout",
     "output_type": "stream",
     "text": [
      "[2, 5]\n"
     ]
    }
   ],
   "source": [
    "def twoSum(nums, target):\n",
    "    num_map = {}\n",
    "    for i, num in enumerate(nums):\n",
    "        complement = target - num\n",
    "        if complement in num_map:\n",
    "            return [num_map[complement], i]\n",
    "        num_map[num] = i\n",
    "        \n",
    "nums = [1, 2, 6, 3, 4, 5]\n",
    "target = 11\n",
    "\n",
    "print(twoSum(nums, target))"
   ]
  },
  {
   "cell_type": "code",
   "execution_count": 14,
   "metadata": {},
   "outputs": [
    {
     "name": "stdout",
     "output_type": "stream",
     "text": [
      "0\n",
      "1\n",
      "2\n",
      "2\n"
     ]
    }
   ],
   "source": [
    "def removeDuplicates(nums):\n",
    "    if not nums:\n",
    "        return 0\n",
    "    i = 0\n",
    "    flag = 0\n",
    "    for j in range(1, len(nums)):\n",
    "        if nums[j] != nums[i]:\n",
    "            i += 1\n",
    "            nums[i] = nums[j]\n",
    "            flag = 0\n",
    "        elif flag < 1:\n",
    "            i += 1\n",
    "            nums[i] = nums[j]\n",
    "            flag = 1\n",
    "\n",
    "    return i + 1\n",
    "\n",
    "print(removeDuplicates([]))\n",
    "print(removeDuplicates([1]))\n",
    "print(removeDuplicates([1,1]))\n",
    "print(removeDuplicates([1,2]))"
   ]
  },
  {
   "cell_type": "code",
   "execution_count": null,
   "metadata": {},
   "outputs": [],
   "source": []
  }
 ],
 "metadata": {
  "kernelspec": {
   "display_name": "Python 3",
   "language": "python",
   "name": "python3"
  },
  "language_info": {
   "codemirror_mode": {
    "name": "ipython",
    "version": 3
   },
   "file_extension": ".py",
   "mimetype": "text/x-python",
   "name": "python",
   "nbconvert_exporter": "python",
   "pygments_lexer": "ipython3",
   "version": "3.8.8"
  },
  "toc": {
   "base_numbering": 1,
   "nav_menu": {},
   "number_sections": false,
   "sideBar": false,
   "skip_h1_title": false,
   "title_cell": "Table of Contents",
   "title_sidebar": "Contents",
   "toc_cell": true,
   "toc_position": {},
   "toc_section_display": true,
   "toc_window_display": false
  }
 },
 "nbformat": 4,
 "nbformat_minor": 2
}
