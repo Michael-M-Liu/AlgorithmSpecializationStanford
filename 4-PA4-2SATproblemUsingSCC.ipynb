{
 "cells": [
  {
   "cell_type": "markdown",
   "metadata": {
    "toc": true
   },
   "source": [
    "<h1>Table of Contents<span class=\"tocSkip\"></span></h1>\n",
    "<div class=\"toc\"><ul class=\"toc-item\"><li><span><a href=\"#Load-data-into-list\" data-toc-modified-id=\"Load-data-into-list-1\">Load data into list</a></span></li><li><span><a href=\"#Create-graph-from-list-of-clause\" data-toc-modified-id=\"Create-graph-from-list-of-clause-2\">Create graph from list of clause</a></span></li><li><span><a href=\"#Find-SCC-networks-and-check-if-there-are-nodes-with-opposite-values\" data-toc-modified-id=\"Find-SCC-networks-and-check-if-there-are-nodes-with-opposite-values-3\">Find SCC networks and check if there are nodes with opposite values</a></span></li></ul></div>"
   ]
  },
  {
   "cell_type": "markdown",
   "metadata": {},
   "source": [
    "Question 1\n",
    "In this assignment you will implement one or more algorithms for the 2SAT problem. Here are 6 different 2SAT instances:\n",
    "\n",
    "2sat1.txt\n",
    "2sat2.txt\n",
    "2sat3.txt\n",
    "2sat4.txt\n",
    "2sat5.txt\n",
    "2sat6.txt\n",
    "\n",
    "The file format is as follows. In each instance, the number of variables and the number of clauses is the same, and this number is specified on the first line of the file. Each subsequent line specifies a clause via its two literals, with a number denoting the variable and a \"-\" sign denoting logical \"not\". For example, the second line of the first data file is \"-16808 75250\", which indicates the clause -x_{16808} v x_{75250}\n",
    "\n",
    "Your task is to determine which of the 6 instances are satisfiable, and which are unsatisfiable. In the box below, enter a 6-bit string, where the ith bit should be 1 if the ith instance is satisfiable, and 0 otherwise. For example, if you think that the first 3 instances are satisfiable and the last 3 are not, then you should enter the string 111000 in the box below.\n",
    "\n",
    "DISCUSSION: This assignment is deliberately open-ended, and you can implement whichever 2SAT algorithm you want. For example, 2SAT reduces to computing the strongly connected components of a suitable graph (with two vertices per variable and two directed edges per clause, you should think through the details). This might be an especially attractive option for those of you who coded up an SCC algorithm in Part 2 of this specialization. Alternatively, you can use Papadimitriou's randomized local search algorithm. (The algorithm from lecture is probably too slow as stated, so you might want to make one or more simple modifications to it --- even if this means breaking the analysis given in lecture --- to ensure that it runs in a reasonable amount of time.) A third approach is via backtracking. In lecture we mentioned this approach only in passing; see Chapter 9 of the Dasgupta-Papadimitriou-Vazirani book, for example, for more details.\n",
    "\n",
    "https://cp-algorithms.com/graph/2SAT.html\n"
   ]
  },
  {
   "cell_type": "markdown",
   "metadata": {},
   "source": [
    "## Load data into list"
   ]
  },
  {
   "cell_type": "code",
   "execution_count": 1,
   "metadata": {
    "ExecuteTime": {
     "end_time": "2020-11-08T22:38:38.894795Z",
     "start_time": "2020-11-08T22:38:37.975749Z"
    }
   },
   "outputs": [
    {
     "name": "stdout",
     "output_type": "stream",
     "text": [
      "number of rows:  200000\n"
     ]
    },
    {
     "data": {
      "text/plain": [
       "[[200000],\n",
       " [-146223, 168819],\n",
       " [-171640, 63526],\n",
       " [-51555, -198964],\n",
       " [-126068, -100807],\n",
       " [-29773, 94612]]"
      ]
     },
     "execution_count": 1,
     "metadata": {},
     "output_type": "execute_result"
    }
   ],
   "source": [
    "import numpy as np\n",
    "import time\n",
    "import math\n",
    "import sys\n",
    "from collections import defaultdict, Counter\n",
    "import matplotlib.pyplot as plt\n",
    "from itertools import combinations \n",
    "\n",
    "\n",
    "# load data and convert to int\n",
    "def read_data(filename):\n",
    "    f = open(filename, 'r')\n",
    "    # f.readline()\n",
    "    ls = f.readline().split()\n",
    "    data = []\n",
    "    while ls:\n",
    "        data.append([int(i) for i in ls])\n",
    "        ls = f.readline().split()\n",
    "    f.close()\n",
    "    return data\n",
    "\n",
    "filename = '2sat2.txt'\n",
    "data = read_data(filename)\n",
    "n = data[0][0]\n",
    "print('number of rows: ', n)\n",
    "data[:6]"
   ]
  },
  {
   "cell_type": "markdown",
   "metadata": {},
   "source": [
    "## Create graph from list of clause"
   ]
  },
  {
   "cell_type": "code",
   "execution_count": 2,
   "metadata": {
    "ExecuteTime": {
     "end_time": "2020-11-08T22:38:45.062101Z",
     "start_time": "2020-11-08T22:38:44.815712Z"
    }
   },
   "outputs": [
    {
     "data": {
      "text/plain": [
       "[[146223, 168819],\n",
       " [-168819, -146223],\n",
       " [171640, 63526],\n",
       " [-63526, -171640],\n",
       " [51555, -198964]]"
      ]
     },
     "execution_count": 2,
     "metadata": {},
     "output_type": "execute_result"
    }
   ],
   "source": [
    "def create_graph_from_2sat(data):\n",
    "    \"\"\"\n",
    "    data is a list of list, [[1, 2], [2, -3], ...]\n",
    "    each element of the list represents a clause via its two numbers, \n",
    "    with a number denoting the variable and a \"-\" sign denoting logical \"not\". \n",
    "    For example, [-16808 75250], which indicates the clause -x_{16808} v x_{75250}\n",
    "    \"\"\"\n",
    "    graph = []  # a graph represented by a list of edges with, each edge is indicated by [start_v, end_v]\n",
    "    \n",
    "    for a, b in data:\n",
    "        graph.append([-a, b])\n",
    "        graph.append([-b, a])\n",
    "        \n",
    "    return graph\n",
    "\n",
    "graph = create_graph_from_2sat(data[1:])\n",
    "graph[:5]"
   ]
  },
  {
   "cell_type": "markdown",
   "metadata": {
    "ExecuteTime": {
     "end_time": "2020-11-08T22:33:48.571047Z",
     "start_time": "2020-11-08T22:33:48.568653Z"
    }
   },
   "source": [
    "## Find SCC networks and check if there are nodes with opposite values \n",
    "\n",
    "nodes with opposite values in any scc means contradictory requirements and clauses can NOT be satisfied "
   ]
  },
  {
   "cell_type": "code",
   "execution_count": 3,
   "metadata": {
    "ExecuteTime": {
     "end_time": "2020-11-08T22:41:35.216459Z",
     "start_time": "2020-11-08T22:40:37.162240Z"
    }
   },
   "outputs": [
    {
     "name": "stdout",
     "output_type": "stream",
     "text": [
      "[6, 6, 1, 1, 1, 1]\n",
      "[46, 46, 8, 4, 4, 1]\n",
      "[101, 101, 47, 47, 19, 19]\n",
      "[4, 4, 4, 4, 3, 3]\n",
      "[38, 38, 27, 27, 15, 15]\n",
      "[14, 14, 6, 4, 4, 4]\n"
     ]
    },
    {
     "data": {
      "text/plain": [
       "[True, False, True, True, False, False]"
      ]
     },
     "execution_count": 3,
     "metadata": {},
     "output_type": "execute_result"
    }
   ],
   "source": [
    "def convert_dict(graph):\n",
    "    g = defaultdict(list)\n",
    "    for e in graph:\n",
    "        g[e[0]].append(e[1])\n",
    "    return g\n",
    "\n",
    "## DFS search on reversed graph\n",
    "def DFS_loop(graph):\n",
    "    def DFS(node):\n",
    "        nonlocal t\n",
    "        visited[node] = -1\n",
    "        if node in graph: \n",
    "            for neighbor in graph[node]:\n",
    "                if neighbor not in visited:\n",
    "                    DFS(neighbor)\n",
    "        t += 1\n",
    "        visited[node] = t\n",
    "    \n",
    "    nodes = sorted(graph.keys(), reverse=True)        \n",
    "    t = 0 \n",
    "    global visited\n",
    "    for node in nodes:\n",
    "        if node not in visited:\n",
    "            DFS(node)\n",
    "\n",
    "# Graph is stored in dictionary format\n",
    "def DFS_loop2(graph, nodes):\n",
    "    \n",
    "    def DFS(node):\n",
    "        nonlocal t\n",
    "        visited[node] = -1\n",
    "        if node in graph: \n",
    "            for neighbor in graph[node]:\n",
    "                if neighbor not in visited:\n",
    "                    DFS(neighbor)\n",
    "        t += 1\n",
    "        visited[node] = t\n",
    "        scc_nodes.append(node)\n",
    "        \n",
    "    scc, scc_all = [], []    \n",
    "    visited = dict()\n",
    "    for node in nodes:\n",
    "        if node not in visited:\n",
    "            scc_nodes = []\n",
    "            t = 0\n",
    "            DFS(node)\n",
    "            scc.append(t)\n",
    "            scc_all.append(scc_nodes)\n",
    "            \n",
    "    scc_all.sort(reverse=True, key=lambda scc: len(scc))\n",
    "\n",
    "    return scc_all  # a list of scc, each scc is represented by a list of nodes\n",
    "\n",
    "## DFS search on reversed graph\n",
    "def DFS_loop_rev(graph):\n",
    "    def DFS_C(node, t):\n",
    "        nonlocal visited\n",
    "        visited[node] = -1\n",
    "        if node in graph: \n",
    "            for neighbor in graph[node]:\n",
    "                if neighbor not in visited:\n",
    "                    t = DFS_C(neighbor, t)\n",
    "        t += 1\n",
    "        visited[node] = t\n",
    "        return t\n",
    "     \n",
    "    \n",
    "    nodes = sorted(graph.keys(), reverse=True)        \n",
    "    t = 0 \n",
    "    visited = dict()\n",
    "    \n",
    "    for node in nodes:\n",
    "        if node not in visited:\n",
    "            t = DFS_C(node, t)\n",
    "    \n",
    "    return visited\n",
    "\n",
    "\n",
    "## check if there are any \n",
    "def check_duplicate_variables(scc_all):\n",
    "    for scc in scc_all:\n",
    "        max_cnt = max(Counter([abs(node) for node in scc]).values())\n",
    "        if max_cnt > 1:\n",
    "            return True\n",
    "    \n",
    "\n",
    "## calculate scc\n",
    "def find_scc(graph, i=0):\n",
    "    \n",
    "    global satisfiable\n",
    "    # Create reverse graph g_rev in dictionary format\n",
    "    g_rev = convert_dict([(e[1], e[0]) for e in graph])\n",
    "    \n",
    "    # run DFS on reversed graph  \n",
    "    visited = DFS_loop_rev(g_rev)\n",
    "\n",
    "    # Create graph in dictionary format\n",
    "    g = convert_dict(graph)    \n",
    "    \n",
    "    # Run DFS on graph to find SCC\n",
    "    order = sorted([[key, value] for key, value in visited.items()], key=lambda e: e[1], reverse=True)\n",
    "    order = [e[0] for e in order]\n",
    "    \n",
    "    scc_all = DFS_loop2(g, order)\n",
    "    \n",
    "    print([len(scc_all[i]) for i in range(6)])\n",
    "    \n",
    "    satisfiable[i] = not check_duplicate_variables(scc_all)\n",
    "\n",
    "    \n",
    "    \n",
    "import sys, threading\n",
    "\n",
    "sys.setrecursionlimit(800000)\n",
    "threading.stack_size(67108864)\n",
    "\n",
    "filenames = ['2sat1.txt', '2sat2.txt', '2sat3.txt', '2sat4.txt','2sat5.txt', '2sat6.txt']\n",
    "threads = []\n",
    "satisfiable = [0] * len(filenames)\n",
    "\n",
    "for i, filename in enumerate(filenames):\n",
    "    data = read_data(filename)\n",
    "    graph = create_graph_from_2sat(data[1:])\n",
    "    thread = threading.Thread(target=find_scc, args=((graph, i)))\n",
    "    threads.append(thread)\n",
    "    thread.start()\n",
    "    thread.join()\n",
    "        \n",
    "satisfiable"
   ]
  },
  {
   "cell_type": "code",
   "execution_count": null,
   "metadata": {},
   "outputs": [],
   "source": []
  }
 ],
 "metadata": {
  "kernelspec": {
   "display_name": "Python 3",
   "language": "python",
   "name": "python3"
  },
  "language_info": {
   "codemirror_mode": {
    "name": "ipython",
    "version": 3
   },
   "file_extension": ".py",
   "mimetype": "text/x-python",
   "name": "python",
   "nbconvert_exporter": "python",
   "pygments_lexer": "ipython3",
   "version": "3.7.4"
  },
  "toc": {
   "base_numbering": 1,
   "nav_menu": {},
   "number_sections": false,
   "sideBar": false,
   "skip_h1_title": false,
   "title_cell": "Table of Contents",
   "title_sidebar": "Contents",
   "toc_cell": true,
   "toc_position": {},
   "toc_section_display": true,
   "toc_window_display": false
  }
 },
 "nbformat": 4,
 "nbformat_minor": 2
}
