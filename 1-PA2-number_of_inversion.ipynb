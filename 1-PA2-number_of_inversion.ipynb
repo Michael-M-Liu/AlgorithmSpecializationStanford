{
 "cells": [
  {
   "cell_type": "markdown",
   "metadata": {
    "toc": true
   },
   "source": [
    "<h1>Table of Contents<span class=\"tocSkip\"></span></h1>\n",
    "<div class=\"toc\"><ul class=\"toc-item\"></ul></div>"
   ]
  },
  {
   "cell_type": "markdown",
   "metadata": {},
   "source": [
    "Download the following text file:\n",
    "\n",
    "IntegerArray.txt\n",
    "This file contains all of the 100,000 integers between 1 and 100,000 (inclusive) in some order, with no integer repeated.\n",
    "\n",
    "Your task is to compute the number of inversions in the file given, where the ith row of the file indicates the ith entry of an array.\n",
    "\n",
    "Because of the large size of this array, you should implement the fast divide-and-conquer algorithm covered in the video lectures.\n",
    "\n",
    "The numeric answer for the given input file should be typed in the space below.\n",
    "\n",
    "So if your answer is 1198233847, then just type 1198233847 in the space provided without any space / commas / any other punctuation marks. You can make up to 5 attempts, and we'll use the best one for grading.\n",
    "\n",
    "(We do not require you to submit your code, so feel free to use any programming language you want --- just type the final numeric answer in the following space.)\n",
    "\n",
    "[TIP: before submitting, first test the correctness of your program on some small test files or your own devising. Then post your best test cases to the discussion forums to help your fellow students!]\n",
    "\n",
    "1 / 1 point\n"
   ]
  },
  {
   "cell_type": "code",
   "execution_count": 1,
   "metadata": {
    "ExecuteTime": {
     "end_time": "2020-07-17T05:26:16.421441Z",
     "start_time": "2020-07-17T05:26:16.409224Z"
    }
   },
   "outputs": [],
   "source": [
    "nums = open(\"integerArray.txt\").read().split()"
   ]
  },
  {
   "cell_type": "code",
   "execution_count": 2,
   "metadata": {
    "ExecuteTime": {
     "end_time": "2020-07-17T05:26:16.432814Z",
     "start_time": "2020-07-17T05:26:16.424110Z"
    }
   },
   "outputs": [
    {
     "data": {
      "text/plain": [
       "100000"
      ]
     },
     "execution_count": 2,
     "metadata": {},
     "output_type": "execute_result"
    }
   ],
   "source": [
    "len(nums)"
   ]
  },
  {
   "cell_type": "code",
   "execution_count": 3,
   "metadata": {
    "ExecuteTime": {
     "end_time": "2020-07-17T05:26:16.461691Z",
     "start_time": "2020-07-17T05:26:16.435625Z"
    }
   },
   "outputs": [],
   "source": [
    "nums = [int(i) for i in nums]"
   ]
  },
  {
   "cell_type": "code",
   "execution_count": 4,
   "metadata": {
    "ExecuteTime": {
     "end_time": "2020-07-17T05:26:16.473136Z",
     "start_time": "2020-07-17T05:26:16.464515Z"
    }
   },
   "outputs": [],
   "source": [
    "# Divide and Conqure to solve number of inverse problems\n",
    "\n",
    "def num_of_inverse(nums):\n",
    "    \n",
    "    def recursive(i, j):\n",
    "        \n",
    "        if j == i: return 0\n",
    "        \n",
    "        m = (i + j) // 2\n",
    "        \n",
    "        total = recursive(i, m) + recursive(m + 1, j)\n",
    "        \n",
    "        I, J = i, m + 1\n",
    "        temp = []   \n",
    "\n",
    "        while (I <= m) and (J <= j):\n",
    "            if (nums[I] > nums[J]):\n",
    "                total += m - I + 1\n",
    "                temp.append(nums[J])\n",
    "                J += 1\n",
    "            else:\n",
    "                temp.append(nums[I])\n",
    "                I += 1\n",
    "        \n",
    "        # if right side has left over elements    \n",
    "        while J <= j:\n",
    "            temp.append(nums[J])\n",
    "            J += 1\n",
    "            \n",
    "        # if left side has left over elements\n",
    "        while I <= m:\n",
    "            temp.append(nums[I])\n",
    "            I += 1\n",
    "            \n",
    "#         print(nums[i:j+1], temp, total)    \n",
    "            \n",
    "        # replace nums with sorted list\n",
    "        nums[i:j+1] = temp\n",
    "                \n",
    "        return total\n",
    "    \n",
    "    return recursive(0, len(nums) -1)\n",
    "    "
   ]
  },
  {
   "cell_type": "code",
   "execution_count": 5,
   "metadata": {
    "ExecuteTime": {
     "end_time": "2020-07-17T05:26:16.486792Z",
     "start_time": "2020-07-17T05:26:16.475674Z"
    }
   },
   "outputs": [
    {
     "data": {
      "text/plain": [
       "2372"
      ]
     },
     "execution_count": 5,
     "metadata": {},
     "output_type": "execute_result"
    }
   ],
   "source": [
    "# test cases\n",
    "a = [9, 12, 3, 1, 6, 8, 2, 5, 14, 13, 11, 7, 10, 4, 0 ]\n",
    "a = [4, 80, 70, 23, 9, 60, 68, 27, 66, 78, 12, 40, 52, 53, 44, 8, 49, 28, 18, 46, 21, 39, 51, 7, 87, 99, 69, 62, 84, 6, 79, 67, 14, 98, 83, 0, 96, 5, 82, 10, 26, 48, 3, 2, 15, 92, 11, 55, 63, 97, 43, 45, 81, 42, 95, 20, 25, 74, 24, 72, 91, 35, 86, 19, 75, 58, 71, 47, 76, 59, 64, 93, 17, 50, 56, 94, 90, 89, 32, 37, 34, 65, 1, 73, 41, 36, 57, 77, 30, 22, 13, 29, 38, 16, 88, 61, 31, 85, 33, 54]\n",
    "# a = [37, 7, 2, 14, 35, 47, 10, 24, 44, 17, 34, 11, 16, 48, 1, 39, 6, 33, 43, 26, 40, 4, 28, 5, 38, 41, 42, 12, 13, 21, 29, 18, 3, 19, 0, 32, 46, 27, 31, 25, 15, 36, 20, 8, 9, 49, 22, 23, 30, 45]\n",
    "num_of_inverse(a)"
   ]
  },
  {
   "cell_type": "code",
   "execution_count": 6,
   "metadata": {
    "ExecuteTime": {
     "end_time": "2020-07-17T05:26:17.067127Z",
     "start_time": "2020-07-17T05:26:16.488870Z"
    }
   },
   "outputs": [
    {
     "data": {
      "text/plain": [
       "2407905288"
      ]
     },
     "execution_count": 6,
     "metadata": {},
     "output_type": "execute_result"
    }
   ],
   "source": [
    "nums = open(\"integerArray.txt\").read().split()\n",
    "nums = [int(i) for i in nums]\n",
    "nums[:10]\n",
    "num_of_inverse(nums)"
   ]
  },
  {
   "cell_type": "code",
   "execution_count": null,
   "metadata": {},
   "outputs": [],
   "source": []
  },
  {
   "cell_type": "code",
   "execution_count": null,
   "metadata": {},
   "outputs": [],
   "source": []
  }
 ],
 "metadata": {
  "kernelspec": {
   "display_name": "Python 3",
   "language": "python",
   "name": "python3"
  },
  "language_info": {
   "codemirror_mode": {
    "name": "ipython",
    "version": 3
   },
   "file_extension": ".py",
   "mimetype": "text/x-python",
   "name": "python",
   "nbconvert_exporter": "python",
   "pygments_lexer": "ipython3",
   "version": "3.7.4"
  },
  "toc": {
   "base_numbering": 1,
   "nav_menu": {},
   "number_sections": false,
   "sideBar": false,
   "skip_h1_title": false,
   "title_cell": "Table of Contents",
   "title_sidebar": "Contents",
   "toc_cell": true,
   "toc_position": {},
   "toc_section_display": true,
   "toc_window_display": false
  }
 },
 "nbformat": 4,
 "nbformat_minor": 2
}
