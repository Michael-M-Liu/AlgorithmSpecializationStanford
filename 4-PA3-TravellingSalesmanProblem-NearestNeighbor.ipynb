{
 "cells": [
  {
   "cell_type": "markdown",
   "metadata": {
    "toc": true
   },
   "source": [
    "<h1>Table of Contents<span class=\"tocSkip\"></span></h1>\n",
    "<div class=\"toc\"><ul class=\"toc-item\"><li><span><a href=\"#Load-data-into-list\" data-toc-modified-id=\"Load-data-into-list-1\">Load data into list</a></span></li><li><span><a href=\"#Plot-data\" data-toc-modified-id=\"Plot-data-2\">Plot data</a></span></li><li><span><a href=\"#TSP-Heuristic-Solution-Nearest-Neighbor\" data-toc-modified-id=\"TSP-Heuristic-Solution-Nearest-Neighbor-3\">TSP Heuristic Solution Nearest Neighbor</a></span></li></ul></div>"
   ]
  },
  {
   "cell_type": "markdown",
   "metadata": {},
   "source": [
    "In this assignment we will revisit an old friend, the traveling salesman problem (TSP). This week you will implement a heuristic for the TSP, rather than an exact algorithm, and as a result will be able to handle much larger problem sizes. Here is a data file describing a TSP instance (original source: http://www.math.uwaterloo.ca/tsp/world/bm33708.tsp).\n",
    "\n",
    "nn.txt\n",
    "The first line indicates the number of cities. Each city is a point in the plane, and each subsequent line indicates the x- and y-coordinates of a single city.\n",
    "\n",
    "The distance between two cities is defined as the Euclidean distance --- that is, two cities at locations (x,y)(x,y) and (z,w)(z,w) have distance \\sqrt{(x-z)^2 + (y-w)^2} between them.\n",
    "\n",
    "You should implement the nearest neighbor heuristic:\n",
    "\n",
    "Start the tour at the first city.\n",
    "Repeatedly visit the closest city that the tour hasn't visited yet. In case of a tie, go to the closest city with the lowest index. For example, if both the third and fifth cities have the same distance from the first city (and are closer than any other city), then the tour should begin by going from the first city to the third city.\n",
    "Once every city has been visited exactly once, return to the first city to complete the tour.\n",
    "In the box below, enter the cost of the traveling salesman tour computed by the nearest neighbor heuristic for this instance, rounded down to the nearest integer.\n",
    "\n",
    "[Hint: when constructing the tour, you might find it simpler to work with squared Euclidean distances (i.e., the formula above but without the square root) than Euclidean distances. But don't forget to report the length of the tour in terms of standard Euclidean distance.]\n"
   ]
  },
  {
   "cell_type": "markdown",
   "metadata": {},
   "source": [
    "## Load data into list"
   ]
  },
  {
   "cell_type": "code",
   "execution_count": 1,
   "metadata": {
    "ExecuteTime": {
     "end_time": "2020-11-02T03:03:14.523886Z",
     "start_time": "2020-11-02T03:03:13.998601Z"
    }
   },
   "outputs": [
    {
     "data": {
      "text/plain": [
       "[[33708.0],\n",
       " [1.0, 9983.3333, 98550.0],\n",
       " [2.0, 10000.0, 98533.3333],\n",
       " [3.0, 10000.0, 98550.0],\n",
       " [4.0, 10000.0, 98566.6667],\n",
       " [5.0, 10016.6667, 98516.6667]]"
      ]
     },
     "execution_count": 1,
     "metadata": {},
     "output_type": "execute_result"
    }
   ],
   "source": [
    "import numpy as np\n",
    "import time\n",
    "import math\n",
    "import sys\n",
    "from collections import defaultdict\n",
    "import matplotlib.pyplot as plt\n",
    "from itertools import combinations \n",
    "\n",
    "\n",
    "# load data and convert to int\n",
    "def read_data(filename):\n",
    "    f = open(filename, 'r')\n",
    "    # f.readline()\n",
    "    ls = f.readline().split()\n",
    "    data = []\n",
    "    while ls:\n",
    "        data.append([float(i) for i in ls])\n",
    "        ls = f.readline().split()\n",
    "    f.close()\n",
    "    return data\n",
    "\n",
    "filename = 'nn.txt'\n",
    "data = read_data(filename)\n",
    "n = data[0][0]\n",
    "data[:6]"
   ]
  },
  {
   "cell_type": "markdown",
   "metadata": {},
   "source": [
    "## Plot data"
   ]
  },
  {
   "cell_type": "code",
   "execution_count": 2,
   "metadata": {
    "ExecuteTime": {
     "end_time": "2020-11-02T03:03:14.803179Z",
     "start_time": "2020-11-02T03:03:14.526035Z"
    }
   },
   "outputs": [
    {
     "data": {
      "text/plain": [
       "[<matplotlib.lines.Line2D at 0x7fbda8a46bd0>]"
      ]
     },
     "execution_count": 2,
     "metadata": {},
     "output_type": "execute_result"
    },
    {
     "data": {
      "image/png": "[encoded data removed]",
      "text/plain": [
       "<Figure size 432x288 with 1 Axes>"
      ]
     },
     "metadata": {
      "needs_background": "light"
     },
     "output_type": "display_data"
    }
   ],
   "source": [
    "x = [d[1] for d in data[1:]]\n",
    "y = [d[2] for d in data[1:]]\n",
    "\n",
    "plt.plot(x, y, '*')"
   ]
  },
  {
   "cell_type": "markdown",
   "metadata": {},
   "source": [
    "## TSP Heuristic Solution Nearest Neighbor\n",
    "Let path = [1], visited = {1}, n is the total number of cities   <br>\n",
    "Base case A[S,1] = 0 if S={1} else infinity <br>\n",
    "while len(path) < n: <br>\n",
    "&emsp; calculate distance of all the points not in visited to the last point in path[-1] <br>\n",
    "&emsp; add the index of the shortest distance to the path and visited  <br>\n",
    "\n",
    "let tour = 0 <br>\n",
    "for i from 1 to n: <br>\n",
    "&emsp; tour += distance(path[i-1], path[i] <br>\n",
    "tour += distance(path[n], path[0])\n",
    "\n",
    "for the lagest set S calcuate the minimum of A[S,j] + C_j1 for j from 2 to n"
   ]
  },
  {
   "cell_type": "code",
   "execution_count": 3,
   "metadata": {
    "ExecuteTime": {
     "end_time": "2020-11-02T03:11:26.801865Z",
     "start_time": "2020-11-02T03:03:14.805930Z"
    }
   },
   "outputs": [
    {
     "data": {
      "text/plain": [
       "[0, 2, 1, 4, 5, 6, 8, 10, 9, 11, 12, 7, 3, 14, 13, 16, 15, 17, 18, 20]"
      ]
     },
     "execution_count": 3,
     "metadata": {},
     "output_type": "execute_result"
    }
   ],
   "source": [
    "n = int(data[0][0])\n",
    "path = [0]  # starting from the first city\n",
    "unvisited = {i for i in range(1, n)}\n",
    "tour = 0\n",
    "points = data[1:]\n",
    "\n",
    "def distance(k, j):\n",
    "    return math.sqrt((points[k][2]-points[j][2])**2 + (points[k][1]-points[j][1])**2)\n",
    "\n",
    "def distance2(k, j):\n",
    "    return (points[k][2]-points[j][2])**2 + (points[k][1]-points[j][1])**2\n",
    "\n",
    "while len(path) < n:\n",
    "#     print(len(path))\n",
    "    nearest = (float('inf'), float('inf'))\n",
    "    for i in unvisited:\n",
    "        dist = distance2(path[-1], i)\n",
    "        nearest = min(nearest, (dist, i))\n",
    "    path.append(nearest[1])\n",
    "    unvisited.remove(nearest[1])\n",
    "    tour += nearest[0]\n",
    "\n",
    "path[:20]"
   ]
  },
  {
   "cell_type": "code",
   "execution_count": 4,
   "metadata": {
    "ExecuteTime": {
     "end_time": "2020-11-02T03:11:26.843685Z",
     "start_time": "2020-11-02T03:11:26.803864Z"
    }
   },
   "outputs": [
    {
     "data": {
      "text/plain": [
       "1203406.501270884"
      ]
     },
     "execution_count": 4,
     "metadata": {},
     "output_type": "execute_result"
    }
   ],
   "source": [
    "# calculate the total distance of the tour\n",
    "def total_dist(path):\n",
    "    tour = distance(path[n-1], path[0])\n",
    "    for i in range(1, n):\n",
    "        tour += distance(path[i], path[i-1])\n",
    "    \n",
    "    return tour\n",
    "\n",
    "total_dist(path)"
   ]
  },
  {
   "cell_type": "code",
   "execution_count": null,
   "metadata": {},
   "outputs": [],
   "source": []
  },
  {
   "cell_type": "code",
   "execution_count": 5,
   "metadata": {
    "ExecuteTime": {
     "end_time": "2020-11-02T03:16:20.495797Z",
     "start_time": "2020-11-02T03:11:26.845522Z"
    }
   },
   "outputs": [
    {
     "name": "stdout",
     "output_type": "stream",
     "text": [
      "1203406.501270884\n"
     ]
    },
    {
     "data": {
      "text/plain": [
       "[0, 2, 1, 4, 5, 6, 8, 10, 9, 11, 12, 7, 3, 14, 13, 16, 15, 17, 18, 20]"
      ]
     },
     "execution_count": 5,
     "metadata": {},
     "output_type": "execute_result"
    }
   ],
   "source": [
    "## Faster alogrithm. sort points by x axis \n",
    "## when delta x is larger than the minimum distance break the for loop\n",
    "\n",
    "\n",
    "n = int(data[0][0])\n",
    "path = [0]  # starting from the first city\n",
    "points = data[1:]\n",
    "ordered = sorted([(p[1], int(p[0])-1) for p in points])\n",
    "ordered_idx = [e[1] for e in ordered]\n",
    "visited = {0}\n",
    "ordered[:5]\n",
    "\n",
    "while len(path) < n:\n",
    "#     print(len(path))\n",
    "    \n",
    "    nearest = (float('inf'), float('inf'))\n",
    "    \n",
    "    for i in ordered_idx:\n",
    "        if i not in visited:\n",
    "            if abs(points[i][1] - points[path[-1]][1]) > math.sqrt(nearest[0]):\n",
    "                break\n",
    "            dist = distance2(path[-1], i)\n",
    "            nearest = min(nearest, (dist, i))\n",
    "#     print(i)       \n",
    "    path.append(nearest[1])\n",
    "    visited.add(nearest[1])\n",
    "\n",
    "print(total_dist(path))\n",
    "path[:20]"
   ]
  },
  {
   "cell_type": "code",
   "execution_count": null,
   "metadata": {},
   "outputs": [],
   "source": []
  },
  {
   "cell_type": "code",
   "execution_count": 6,
   "metadata": {
    "ExecuteTime": {
     "end_time": "2020-11-02T03:16:20.499196Z",
     "start_time": "2020-11-02T03:16:20.497472Z"
    }
   },
   "outputs": [],
   "source": [
    "## Faster alogrithm. divide pints into 2-D grids, \n",
    "## for each point only check its distance to the points that are in the nearest grids"
   ]
  },
  {
   "cell_type": "code",
   "execution_count": null,
   "metadata": {},
   "outputs": [],
   "source": []
  }
 ],
 "metadata": {
  "kernelspec": {
   "display_name": "Python 3",
   "language": "python",
   "name": "python3"
  },
  "language_info": {
   "codemirror_mode": {
    "name": "ipython",
    "version": 3
   },
   "file_extension": ".py",
   "mimetype": "text/x-python",
   "name": "python",
   "nbconvert_exporter": "python",
   "pygments_lexer": "ipython3",
   "version": "3.7.4"
  },
  "toc": {
   "base_numbering": 1,
   "nav_menu": {},
   "number_sections": false,
   "sideBar": false,
   "skip_h1_title": false,
   "title_cell": "Table of Contents",
   "title_sidebar": "Contents",
   "toc_cell": true,
   "toc_position": {},
   "toc_section_display": true,
   "toc_window_display": false
  }
 },
 "nbformat": 4,
 "nbformat_minor": 2
}
