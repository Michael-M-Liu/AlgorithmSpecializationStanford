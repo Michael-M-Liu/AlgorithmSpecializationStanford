{
 "cells": [
  {
   "cell_type": "markdown",
   "metadata": {
    "toc": true
   },
   "source": [
    "<h1>Table of Contents<span class=\"tocSkip\"></span></h1>\n",
    "<div class=\"toc\"><ul class=\"toc-item\"><li><span><a href=\"#Import-data-to-a-list\" data-toc-modified-id=\"Import-data-to-a-list-1\">Import data to a list</a></span></li></ul></div>"
   ]
  },
  {
   "cell_type": "markdown",
   "metadata": {},
   "source": [
    "Download the following text file:\n",
    "\n",
    "Median.txt\n",
    "The goal of this problem is to implement the \"Median Maintenance\" algorithm (covered in the Week 3 lecture on heap applications). The text file contains a list of the integers from 1 to 10000 in unsorted order; you should treat this as a stream of numbers, arriving one by one. Letting x_i\tdenote the ith number of the file, the kth median m_k is defined as the median of the numbers x_1,…,x_k\t(So, if k is odd, then m_k is ((k+1)/2)th smallest number among x_1,...,x_k; if k is even, then m_k is the (k/2)th smallest number among x_1,…,x_k\n",
    "In the box below you should type the sum of these 10000 medians, modulo 10000 (i.e., only the last 4 digits). That is, you should compute (m1+m2+m3+⋯+m10000)mod10000.\n",
    "\n",
    "OPTIONAL EXERCISE: Compare the performance achieved by heap-based and search-tree-based implementations of the algorithm.\n",
    "\n",
    "1 / 1 point\n"
   ]
  },
  {
   "cell_type": "markdown",
   "metadata": {},
   "source": [
    "# Import data to a list"
   ]
  },
  {
   "cell_type": "code",
   "execution_count": 1,
   "metadata": {
    "ExecuteTime": {
     "end_time": "2020-08-23T23:13:03.865039Z",
     "start_time": "2020-08-23T23:13:03.849340Z"
    }
   },
   "outputs": [
    {
     "data": {
      "text/plain": [
       "[5510, 8769, 5708, 8166, 1918, 2366, 558, 3536, 4855]"
      ]
     },
     "execution_count": 1,
     "metadata": {},
     "output_type": "execute_result"
    }
   ],
   "source": [
    "# import data\n",
    "from sys import getsizeof\n",
    "from heapq import *\n",
    "\n",
    "nums = open(\"Median.txt\").read().split()\n",
    "\n",
    "nums = [int(num) for num in nums]\n",
    "\n",
    "nums[-10:-1]"
   ]
  },
  {
   "cell_type": "code",
   "execution_count": 2,
   "metadata": {
    "ExecuteTime": {
     "end_time": "2020-08-23T23:13:05.523752Z",
     "start_time": "2020-08-23T23:13:05.514555Z"
    }
   },
   "outputs": [
    {
     "name": "stdout",
     "output_type": "stream",
     "text": [
      "i is  0\n",
      "i is  1\n",
      "i is  2\n",
      "i is  3\n",
      "i is  4\n",
      "i is  5\n",
      "i is  6\n",
      "i is  7\n",
      "i is  8\n",
      "i is  9\n"
     ]
    }
   ],
   "source": [
    "low, high = [], []\n",
    "\n",
    "def findMedian(num):\n",
    "    right = heappushpop(high, num)\n",
    "    heappush(low, -right)\n",
    "    if len(low) > len(high):\n",
    "        left = -heappop(low)\n",
    "        heappush(high, left)\n",
    "\n",
    "    if len(low) == len(high):\n",
    "#         print(-low[0])\n",
    "        return(-low[0])\n",
    "    else:\n",
    "#         print(high[0])\n",
    "        return(high[0])\n",
    "\n",
    "for i in range(10):\n",
    "    print('i is ', i)\n",
    "    findMedian(i)\n",
    "\n"
   ]
  },
  {
   "cell_type": "code",
   "execution_count": 3,
   "metadata": {
    "ExecuteTime": {
     "end_time": "2020-08-23T23:13:06.694346Z",
     "start_time": "2020-08-23T23:13:06.676810Z"
    }
   },
   "outputs": [],
   "source": [
    "low, high = [], []\n",
    "med_sum = 0\n",
    "for n in nums:\n",
    "    med = findMedian(n)\n",
    "    med_sum += med"
   ]
  },
  {
   "cell_type": "code",
   "execution_count": 4,
   "metadata": {
    "ExecuteTime": {
     "end_time": "2020-08-23T23:13:08.183710Z",
     "start_time": "2020-08-23T23:13:08.179703Z"
    }
   },
   "outputs": [
    {
     "data": {
      "text/plain": [
       "46831213"
      ]
     },
     "execution_count": 4,
     "metadata": {},
     "output_type": "execute_result"
    }
   ],
   "source": [
    "med_sum"
   ]
  },
  {
   "cell_type": "code",
   "execution_count": 5,
   "metadata": {
    "ExecuteTime": {
     "end_time": "2020-08-23T23:13:09.939442Z",
     "start_time": "2020-08-23T23:13:09.935400Z"
    }
   },
   "outputs": [
    {
     "data": {
      "text/plain": [
       "10000"
      ]
     },
     "execution_count": 5,
     "metadata": {},
     "output_type": "execute_result"
    }
   ],
   "source": [
    "len(nums)"
   ]
  },
  {
   "cell_type": "code",
   "execution_count": 6,
   "metadata": {
    "ExecuteTime": {
     "end_time": "2020-08-23T23:13:17.551384Z",
     "start_time": "2020-08-23T23:13:12.263458Z"
    }
   },
   "outputs": [
    {
     "data": {
      "text/plain": [
       "46853171.0"
      ]
     },
     "execution_count": 6,
     "metadata": {},
     "output_type": "execute_result"
    }
   ],
   "source": [
    "import statistics\n",
    "total = 0\n",
    "for i in range(len(nums)):\n",
    "    med = statistics.median(nums[:i+1])\n",
    "    total += med\n",
    "total"
   ]
  },
  {
   "cell_type": "code",
   "execution_count": null,
   "metadata": {},
   "outputs": [],
   "source": []
  }
 ],
 "metadata": {
  "kernelspec": {
   "display_name": "Python 3",
   "language": "python",
   "name": "python3"
  },
  "language_info": {
   "codemirror_mode": {
    "name": "ipython",
    "version": 3
   },
   "file_extension": ".py",
   "mimetype": "text/x-python",
   "name": "python",
   "nbconvert_exporter": "python",
   "pygments_lexer": "ipython3",
   "version": "3.7.4"
  },
  "toc": {
   "base_numbering": 1,
   "nav_menu": {},
   "number_sections": false,
   "sideBar": false,
   "skip_h1_title": false,
   "title_cell": "Table of Contents",
   "title_sidebar": "Contents",
   "toc_cell": true,
   "toc_position": {},
   "toc_section_display": true,
   "toc_window_display": false
  }
 },
 "nbformat": 4,
 "nbformat_minor": 2
}
